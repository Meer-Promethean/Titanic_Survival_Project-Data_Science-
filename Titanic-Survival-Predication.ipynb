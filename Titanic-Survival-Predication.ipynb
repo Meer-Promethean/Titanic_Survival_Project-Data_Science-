{
 "cells": [
  {
   "cell_type": "markdown",
   "id": "7070bf39",
   "metadata": {
    "papermill": {
     "duration": 0.015265,
     "end_time": "2022-12-18T04:20:26.377021",
     "exception": false,
     "start_time": "2022-12-18T04:20:26.361756",
     "status": "completed"
    },
    "tags": []
   },
   "source": [
    "# *Libraries*"
   ]
  },
  {
   "cell_type": "code",
   "execution_count": 60,
   "id": "12fcdf45",
   "metadata": {
    "execution": {
     "iopub.execute_input": "2022-12-18T04:20:26.416184Z",
     "iopub.status.busy": "2022-12-18T04:20:26.414775Z",
     "iopub.status.idle": "2022-12-18T04:20:27.619311Z",
     "shell.execute_reply": "2022-12-18T04:20:27.618076Z"
    },
    "papermill": {
     "duration": 1.227457,
     "end_time": "2022-12-18T04:20:27.622578",
     "exception": false,
     "start_time": "2022-12-18T04:20:26.395121",
     "status": "completed"
    },
    "tags": []
   },
   "outputs": [],
   "source": [
    "import os # Path to file\n",
    "import numpy as np # linear algebra\n",
    "import pandas as pd # data processing, CSV file I/O (e.g. pd.read_csv)\n",
    "import matplotlib.pyplot  as plt # Data visulization\n",
    "import seaborn as sns  # Data visulization\n",
    "import warnings # warning filter\n",
    "from sklearn.model_selection import train_test_split\n",
    "from sklearn import metrics\n",
    "%matplotlib inline\n",
    "\n",
    "# Import Coounter\n",
    "from collections import Counter\n",
    "\n",
    "## Setting Seaborn\n",
    "sns.set(style='white', context='paper', palette='cividis')\n"
   ]
  },
  {
   "cell_type": "code",
   "execution_count": null,
   "id": "190c2747",
   "metadata": {
    "execution": {
     "iopub.execute_input": "2022-12-18T04:20:27.655008Z",
     "iopub.status.busy": "2022-12-18T04:20:27.654567Z",
     "iopub.status.idle": "2022-12-18T04:20:27.662614Z",
     "shell.execute_reply": "2022-12-18T04:20:27.661520Z"
    },
    "papermill": {
     "duration": 0.026898,
     "end_time": "2022-12-18T04:20:27.664875",
     "exception": false,
     "start_time": "2022-12-18T04:20:27.637977",
     "status": "completed"
    },
    "tags": []
   },
   "outputs": [],
   "source": []
  },
  {
   "cell_type": "code",
   "execution_count": 3,
   "id": "aea82604",
   "metadata": {
    "execution": {
     "iopub.execute_input": "2022-12-18T04:20:27.697322Z",
     "iopub.status.busy": "2022-12-18T04:20:27.696911Z",
     "iopub.status.idle": "2022-12-18T04:20:27.724947Z",
     "shell.execute_reply": "2022-12-18T04:20:27.723764Z"
    },
    "papermill": {
     "duration": 0.047367,
     "end_time": "2022-12-18T04:20:27.727642",
     "exception": false,
     "start_time": "2022-12-18T04:20:27.680275",
     "status": "completed"
    },
    "tags": []
   },
   "outputs": [],
   "source": [
    "# Loading Data.\n",
    "train = pd.read_csv('./train.csv')\n",
    "test = pd.read_csv('./test.csv')\n"
   ]
  },
  {
   "cell_type": "code",
   "execution_count": 5,
   "id": "813c4014",
   "metadata": {
    "execution": {
     "iopub.execute_input": "2022-12-18T04:20:27.762638Z",
     "iopub.status.busy": "2022-12-18T04:20:27.761943Z",
     "iopub.status.idle": "2022-12-18T04:20:27.811153Z",
     "shell.execute_reply": "2022-12-18T04:20:27.809990Z"
    },
    "papermill": {
     "duration": 0.069339,
     "end_time": "2022-12-18T04:20:27.813301",
     "exception": false,
     "start_time": "2022-12-18T04:20:27.743962",
     "status": "completed"
    },
    "tags": []
   },
   "outputs": [
    {
     "name": "stdout",
     "output_type": "stream",
     "text": [
      "Train Dataset (row, col): (891, 12) \n",
      "\n",
      "\n",
      "Train Dataset Information:\n",
      "\n",
      "<class 'pandas.core.frame.DataFrame'>\n",
      "RangeIndex: 891 entries, 0 to 890\n",
      "Data columns (total 12 columns):\n",
      " #   Column       Non-Null Count  Dtype  \n",
      "---  ------       --------------  -----  \n",
      " 0   PassengerId  891 non-null    int64  \n",
      " 1   Survived     891 non-null    int64  \n",
      " 2   Pclass       891 non-null    int64  \n",
      " 3   Name         891 non-null    object \n",
      " 4   Sex          891 non-null    object \n",
      " 5   Age          714 non-null    float64\n",
      " 6   SibSp        891 non-null    int64  \n",
      " 7   Parch        891 non-null    int64  \n",
      " 8   Ticket       891 non-null    object \n",
      " 9   Fare         891 non-null    float64\n",
      " 10  Cabin        204 non-null    object \n",
      " 11  Embarked     889 non-null    object \n",
      "dtypes: float64(2), int64(5), object(5)\n",
      "memory usage: 83.7+ KB\n",
      "None\n",
      "\n",
      "Test Dataset (row, col): (418, 11) \n",
      "\n",
      "\n",
      "Test Dataset Information:\n",
      "\n",
      "<class 'pandas.core.frame.DataFrame'>\n",
      "RangeIndex: 418 entries, 0 to 417\n",
      "Data columns (total 11 columns):\n",
      " #   Column       Non-Null Count  Dtype  \n",
      "---  ------       --------------  -----  \n",
      " 0   PassengerId  418 non-null    int64  \n",
      " 1   Pclass       418 non-null    int64  \n",
      " 2   Name         418 non-null    object \n",
      " 3   Sex          418 non-null    object \n",
      " 4   Age          332 non-null    float64\n",
      " 5   SibSp        418 non-null    int64  \n",
      " 6   Parch        418 non-null    int64  \n",
      " 7   Ticket       418 non-null    object \n",
      " 8   Fare         417 non-null    float64\n",
      " 9   Cabin        91 non-null     object \n",
      " 10  Embarked     418 non-null    object \n",
      "dtypes: float64(2), int64(4), object(5)\n",
      "memory usage: 36.0+ KB\n",
      "None\n",
      "\n",
      "Train Dataset Values:\n",
      "\n"
     ]
    },
    {
     "data": {
      "text/plain": [
       "PassengerId    [1, 2, 3, 4, 5, 6, 7, 8, 9, 10, 11, 12, 13, 14...\n",
       "Survived                                                  [0, 1]\n",
       "Pclass                                                 [3, 1, 2]\n",
       "Name           [Braund, Mr. Owen Harris, Cumings, Mrs. John B...\n",
       "Sex                                               [male, female]\n",
       "Age            [22.0, 38.0, 26.0, 35.0, nan, 54.0, 2.0, 27.0,...\n",
       "SibSp                                      [1, 0, 3, 4, 2, 5, 8]\n",
       "Parch                                      [0, 1, 2, 5, 3, 4, 6]\n",
       "Ticket         [A/5 21171, PC 17599, STON/O2. 3101282, 113803...\n",
       "Fare           [7.25, 71.2833, 7.925, 53.1, 8.05, 8.4583, 51....\n",
       "Cabin          [nan, C85, C123, E46, G6, C103, D56, A6, C23 C...\n",
       "Embarked                                          [S, C, Q, nan]\n",
       "dtype: object"
      ]
     },
     "execution_count": 5,
     "metadata": {},
     "output_type": "execute_result"
    }
   ],
   "source": [
    "# lets check data\n",
    "print(f'Train Dataset (row, col): {train.shape} \\n')\n",
    "print('\\nTrain Dataset Information:\\n')\n",
    "print(train.info())\n",
    "\n",
    "print(f'\\nTest Dataset (row, col): {test.shape} \\n')\n",
    "print('\\nTest Dataset Information:\\n')\n",
    "print(test.info())\n",
    "\n",
    "print('\\nTrain Dataset Values:\\n')\n",
    "train.apply(lambda x:x.unique())\n"
   ]
  },
  {
   "cell_type": "markdown",
   "id": "f2ddcd32",
   "metadata": {
    "papermill": {
     "duration": 0.015787,
     "end_time": "2022-12-18T04:20:27.876070",
     "exception": false,
     "start_time": "2022-12-18T04:20:27.860283",
     "status": "completed"
    },
    "tags": []
   },
   "source": [
    "# *Future Engeneering*\n",
    "\n"
   ]
  },
  {
   "cell_type": "code",
   "execution_count": 6,
   "id": "7cbe735a",
   "metadata": {
    "execution": {
     "iopub.execute_input": "2022-12-18T04:20:27.908729Z",
     "iopub.status.busy": "2022-12-18T04:20:27.908273Z",
     "iopub.status.idle": "2022-12-18T04:20:27.919872Z",
     "shell.execute_reply": "2022-12-18T04:20:27.918786Z"
    },
    "papermill": {
     "duration": 0.031307,
     "end_time": "2022-12-18T04:20:27.922828",
     "exception": false,
     "start_time": "2022-12-18T04:20:27.891521",
     "status": "completed"
    },
    "tags": []
   },
   "outputs": [],
   "source": [
    "# Check Dupicates\n",
    "train.drop_duplicates(inplace=True)"
   ]
  },
  {
   "cell_type": "code",
   "execution_count": 7,
   "id": "5043b03d",
   "metadata": {
    "execution": {
     "iopub.execute_input": "2022-12-18T04:20:27.958591Z",
     "iopub.status.busy": "2022-12-18T04:20:27.957451Z",
     "iopub.status.idle": "2022-12-18T04:20:28.008740Z",
     "shell.execute_reply": "2022-12-18T04:20:28.007636Z"
    },
    "papermill": {
     "duration": 0.071268,
     "end_time": "2022-12-18T04:20:28.011340",
     "exception": false,
     "start_time": "2022-12-18T04:20:27.940072",
     "status": "completed"
    },
    "tags": []
   },
   "outputs": [
    {
     "data": {
      "text/html": [
       "<div>\n",
       "<style scoped>\n",
       "    .dataframe tbody tr th:only-of-type {\n",
       "        vertical-align: middle;\n",
       "    }\n",
       "\n",
       "    .dataframe tbody tr th {\n",
       "        vertical-align: top;\n",
       "    }\n",
       "\n",
       "    .dataframe thead th {\n",
       "        text-align: right;\n",
       "    }\n",
       "</style>\n",
       "<table border=\"1\" class=\"dataframe\">\n",
       "  <thead>\n",
       "    <tr style=\"text-align: right;\">\n",
       "      <th></th>\n",
       "      <th>PassengerId</th>\n",
       "      <th>Survived</th>\n",
       "      <th>Pclass</th>\n",
       "      <th>Name</th>\n",
       "      <th>Sex</th>\n",
       "      <th>Age</th>\n",
       "      <th>SibSp</th>\n",
       "      <th>Parch</th>\n",
       "      <th>Ticket</th>\n",
       "      <th>Fare</th>\n",
       "      <th>Cabin</th>\n",
       "      <th>Embarked</th>\n",
       "    </tr>\n",
       "  </thead>\n",
       "  <tbody>\n",
       "    <tr>\n",
       "      <th>count</th>\n",
       "      <td>891.000000</td>\n",
       "      <td>891.000000</td>\n",
       "      <td>891.000000</td>\n",
       "      <td>891</td>\n",
       "      <td>891</td>\n",
       "      <td>714.000000</td>\n",
       "      <td>891.000000</td>\n",
       "      <td>891.000000</td>\n",
       "      <td>891</td>\n",
       "      <td>891.000000</td>\n",
       "      <td>204</td>\n",
       "      <td>889</td>\n",
       "    </tr>\n",
       "    <tr>\n",
       "      <th>unique</th>\n",
       "      <td>NaN</td>\n",
       "      <td>NaN</td>\n",
       "      <td>NaN</td>\n",
       "      <td>891</td>\n",
       "      <td>2</td>\n",
       "      <td>NaN</td>\n",
       "      <td>NaN</td>\n",
       "      <td>NaN</td>\n",
       "      <td>681</td>\n",
       "      <td>NaN</td>\n",
       "      <td>147</td>\n",
       "      <td>3</td>\n",
       "    </tr>\n",
       "    <tr>\n",
       "      <th>top</th>\n",
       "      <td>NaN</td>\n",
       "      <td>NaN</td>\n",
       "      <td>NaN</td>\n",
       "      <td>Braund, Mr. Owen Harris</td>\n",
       "      <td>male</td>\n",
       "      <td>NaN</td>\n",
       "      <td>NaN</td>\n",
       "      <td>NaN</td>\n",
       "      <td>347082</td>\n",
       "      <td>NaN</td>\n",
       "      <td>B96 B98</td>\n",
       "      <td>S</td>\n",
       "    </tr>\n",
       "    <tr>\n",
       "      <th>freq</th>\n",
       "      <td>NaN</td>\n",
       "      <td>NaN</td>\n",
       "      <td>NaN</td>\n",
       "      <td>1</td>\n",
       "      <td>577</td>\n",
       "      <td>NaN</td>\n",
       "      <td>NaN</td>\n",
       "      <td>NaN</td>\n",
       "      <td>7</td>\n",
       "      <td>NaN</td>\n",
       "      <td>4</td>\n",
       "      <td>644</td>\n",
       "    </tr>\n",
       "    <tr>\n",
       "      <th>mean</th>\n",
       "      <td>446.000000</td>\n",
       "      <td>0.383838</td>\n",
       "      <td>2.308642</td>\n",
       "      <td>NaN</td>\n",
       "      <td>NaN</td>\n",
       "      <td>29.699118</td>\n",
       "      <td>0.523008</td>\n",
       "      <td>0.381594</td>\n",
       "      <td>NaN</td>\n",
       "      <td>32.204208</td>\n",
       "      <td>NaN</td>\n",
       "      <td>NaN</td>\n",
       "    </tr>\n",
       "    <tr>\n",
       "      <th>std</th>\n",
       "      <td>257.353842</td>\n",
       "      <td>0.486592</td>\n",
       "      <td>0.836071</td>\n",
       "      <td>NaN</td>\n",
       "      <td>NaN</td>\n",
       "      <td>14.526497</td>\n",
       "      <td>1.102743</td>\n",
       "      <td>0.806057</td>\n",
       "      <td>NaN</td>\n",
       "      <td>49.693429</td>\n",
       "      <td>NaN</td>\n",
       "      <td>NaN</td>\n",
       "    </tr>\n",
       "    <tr>\n",
       "      <th>min</th>\n",
       "      <td>1.000000</td>\n",
       "      <td>0.000000</td>\n",
       "      <td>1.000000</td>\n",
       "      <td>NaN</td>\n",
       "      <td>NaN</td>\n",
       "      <td>0.420000</td>\n",
       "      <td>0.000000</td>\n",
       "      <td>0.000000</td>\n",
       "      <td>NaN</td>\n",
       "      <td>0.000000</td>\n",
       "      <td>NaN</td>\n",
       "      <td>NaN</td>\n",
       "    </tr>\n",
       "    <tr>\n",
       "      <th>25%</th>\n",
       "      <td>223.500000</td>\n",
       "      <td>0.000000</td>\n",
       "      <td>2.000000</td>\n",
       "      <td>NaN</td>\n",
       "      <td>NaN</td>\n",
       "      <td>20.125000</td>\n",
       "      <td>0.000000</td>\n",
       "      <td>0.000000</td>\n",
       "      <td>NaN</td>\n",
       "      <td>7.910400</td>\n",
       "      <td>NaN</td>\n",
       "      <td>NaN</td>\n",
       "    </tr>\n",
       "    <tr>\n",
       "      <th>50%</th>\n",
       "      <td>446.000000</td>\n",
       "      <td>0.000000</td>\n",
       "      <td>3.000000</td>\n",
       "      <td>NaN</td>\n",
       "      <td>NaN</td>\n",
       "      <td>28.000000</td>\n",
       "      <td>0.000000</td>\n",
       "      <td>0.000000</td>\n",
       "      <td>NaN</td>\n",
       "      <td>14.454200</td>\n",
       "      <td>NaN</td>\n",
       "      <td>NaN</td>\n",
       "    </tr>\n",
       "    <tr>\n",
       "      <th>75%</th>\n",
       "      <td>668.500000</td>\n",
       "      <td>1.000000</td>\n",
       "      <td>3.000000</td>\n",
       "      <td>NaN</td>\n",
       "      <td>NaN</td>\n",
       "      <td>38.000000</td>\n",
       "      <td>1.000000</td>\n",
       "      <td>0.000000</td>\n",
       "      <td>NaN</td>\n",
       "      <td>31.000000</td>\n",
       "      <td>NaN</td>\n",
       "      <td>NaN</td>\n",
       "    </tr>\n",
       "    <tr>\n",
       "      <th>max</th>\n",
       "      <td>891.000000</td>\n",
       "      <td>1.000000</td>\n",
       "      <td>3.000000</td>\n",
       "      <td>NaN</td>\n",
       "      <td>NaN</td>\n",
       "      <td>80.000000</td>\n",
       "      <td>8.000000</td>\n",
       "      <td>6.000000</td>\n",
       "      <td>NaN</td>\n",
       "      <td>512.329200</td>\n",
       "      <td>NaN</td>\n",
       "      <td>NaN</td>\n",
       "    </tr>\n",
       "  </tbody>\n",
       "</table>\n",
       "</div>"
      ],
      "text/plain": [
       "        PassengerId    Survived      Pclass                     Name   Sex  \\\n",
       "count    891.000000  891.000000  891.000000                      891   891   \n",
       "unique          NaN         NaN         NaN                      891     2   \n",
       "top             NaN         NaN         NaN  Braund, Mr. Owen Harris  male   \n",
       "freq            NaN         NaN         NaN                        1   577   \n",
       "mean     446.000000    0.383838    2.308642                      NaN   NaN   \n",
       "std      257.353842    0.486592    0.836071                      NaN   NaN   \n",
       "min        1.000000    0.000000    1.000000                      NaN   NaN   \n",
       "25%      223.500000    0.000000    2.000000                      NaN   NaN   \n",
       "50%      446.000000    0.000000    3.000000                      NaN   NaN   \n",
       "75%      668.500000    1.000000    3.000000                      NaN   NaN   \n",
       "max      891.000000    1.000000    3.000000                      NaN   NaN   \n",
       "\n",
       "               Age       SibSp       Parch  Ticket        Fare    Cabin  \\\n",
       "count   714.000000  891.000000  891.000000     891  891.000000      204   \n",
       "unique         NaN         NaN         NaN     681         NaN      147   \n",
       "top            NaN         NaN         NaN  347082         NaN  B96 B98   \n",
       "freq           NaN         NaN         NaN       7         NaN        4   \n",
       "mean     29.699118    0.523008    0.381594     NaN   32.204208      NaN   \n",
       "std      14.526497    1.102743    0.806057     NaN   49.693429      NaN   \n",
       "min       0.420000    0.000000    0.000000     NaN    0.000000      NaN   \n",
       "25%      20.125000    0.000000    0.000000     NaN    7.910400      NaN   \n",
       "50%      28.000000    0.000000    0.000000     NaN   14.454200      NaN   \n",
       "75%      38.000000    1.000000    0.000000     NaN   31.000000      NaN   \n",
       "max      80.000000    8.000000    6.000000     NaN  512.329200      NaN   \n",
       "\n",
       "       Embarked  \n",
       "count       889  \n",
       "unique        3  \n",
       "top           S  \n",
       "freq        644  \n",
       "mean        NaN  \n",
       "std         NaN  \n",
       "min         NaN  \n",
       "25%         NaN  \n",
       "50%         NaN  \n",
       "75%         NaN  \n",
       "max         NaN  "
      ]
     },
     "execution_count": 7,
     "metadata": {},
     "output_type": "execute_result"
    }
   ],
   "source": [
    "# Data Summery\n",
    "train.describe(include=[object, np.number])"
   ]
  },
  {
   "cell_type": "code",
   "execution_count": 8,
   "id": "83b2cd57",
   "metadata": {
    "execution": {
     "iopub.execute_input": "2022-12-18T04:20:28.078842Z",
     "iopub.status.busy": "2022-12-18T04:20:28.078460Z",
     "iopub.status.idle": "2022-12-18T04:20:28.089311Z",
     "shell.execute_reply": "2022-12-18T04:20:28.088349Z"
    },
    "papermill": {
     "duration": 0.030593,
     "end_time": "2022-12-18T04:20:28.091375",
     "exception": false,
     "start_time": "2022-12-18T04:20:28.060782",
     "status": "completed"
    },
    "tags": []
   },
   "outputs": [
    {
     "data": {
      "text/plain": [
       "PassengerId     0.000000\n",
       "Survived        0.000000\n",
       "Pclass          0.000000\n",
       "Name            0.000000\n",
       "Sex             0.000000\n",
       "Age            19.865320\n",
       "SibSp           0.000000\n",
       "Parch           0.000000\n",
       "Ticket          0.000000\n",
       "Fare            0.000000\n",
       "Cabin          77.104377\n",
       "Embarked        0.224467\n",
       "dtype: float64"
      ]
     },
     "execution_count": 8,
     "metadata": {},
     "output_type": "execute_result"
    }
   ],
   "source": [
    "# Missing values\n",
    "(train.isnull().sum()/train.shape[0]) * 100"
   ]
  },
  {
   "cell_type": "code",
   "execution_count": 9,
   "id": "57e0b962",
   "metadata": {
    "execution": {
     "iopub.execute_input": "2022-12-18T04:20:28.193689Z",
     "iopub.status.busy": "2022-12-18T04:20:28.192835Z",
     "iopub.status.idle": "2022-12-18T04:20:28.205964Z",
     "shell.execute_reply": "2022-12-18T04:20:28.204282Z"
    },
    "papermill": {
     "duration": 0.033273,
     "end_time": "2022-12-18T04:20:28.208619",
     "exception": false,
     "start_time": "2022-12-18T04:20:28.175346",
     "status": "completed"
    },
    "tags": []
   },
   "outputs": [
    {
     "name": "stdout",
     "output_type": "stream",
     "text": [
      "After combining the datasets (row,col):  (1309, 13)\n"
     ]
    }
   ],
   "source": [
    "# Combining Datasets\n",
    "train['source'] = 'train'\n",
    "test['source'] = 'test'\n",
    "data = pd.concat([train, test], ignore_index=True)\n",
    "print('After combining the datasets (row,col): ', data.shape)"
   ]
  },
  {
   "cell_type": "code",
   "execution_count": 10,
   "id": "e2a22734",
   "metadata": {
    "execution": {
     "iopub.execute_input": "2022-12-18T04:20:28.277503Z",
     "iopub.status.busy": "2022-12-18T04:20:28.276475Z",
     "iopub.status.idle": "2022-12-18T04:20:28.287728Z",
     "shell.execute_reply": "2022-12-18T04:20:28.286642Z"
    },
    "papermill": {
     "duration": 0.032383,
     "end_time": "2022-12-18T04:20:28.290149",
     "exception": false,
     "start_time": "2022-12-18T04:20:28.257766",
     "status": "completed"
    },
    "tags": []
   },
   "outputs": [
    {
     "data": {
      "text/plain": [
       "PassengerId     0.000000\n",
       "Survived       31.932773\n",
       "Pclass          0.000000\n",
       "Name            0.000000\n",
       "Sex             0.000000\n",
       "Age            20.091673\n",
       "SibSp           0.000000\n",
       "Parch           0.000000\n",
       "Ticket          0.000000\n",
       "Fare            0.076394\n",
       "Cabin          77.463713\n",
       "Embarked        0.152788\n",
       "source          0.000000\n",
       "dtype: float64"
      ]
     },
     "execution_count": 10,
     "metadata": {},
     "output_type": "execute_result"
    }
   ],
   "source": [
    "# Fill empty and NaNs values with NaN\n",
    "# Missing values\n",
    "(data.isnull().sum()/data.shape[0]) * 100"
   ]
  },
  {
   "cell_type": "code",
   "execution_count": 11,
   "id": "680f02c0",
   "metadata": {
    "execution": {
     "iopub.execute_input": "2022-12-18T04:20:28.358957Z",
     "iopub.status.busy": "2022-12-18T04:20:28.358298Z",
     "iopub.status.idle": "2022-12-18T04:20:28.368355Z",
     "shell.execute_reply": "2022-12-18T04:20:28.366940Z"
    },
    "papermill": {
     "duration": 0.030613,
     "end_time": "2022-12-18T04:20:28.370769",
     "exception": false,
     "start_time": "2022-12-18T04:20:28.340156",
     "status": "completed"
    },
    "tags": []
   },
   "outputs": [
    {
     "data": {
      "text/plain": [
       "count    1046.000000\n",
       "mean       29.881138\n",
       "std        14.413493\n",
       "min         0.170000\n",
       "25%        21.000000\n",
       "50%        28.000000\n",
       "75%        39.000000\n",
       "max        80.000000\n",
       "Name: Age, dtype: float64"
      ]
     },
     "execution_count": 11,
     "metadata": {},
     "output_type": "execute_result"
    }
   ],
   "source": [
    "# Lets deal with Age first\n",
    "data.Age.describe()\n"
   ]
  },
  {
   "cell_type": "code",
   "execution_count": 12,
   "id": "7502ea2d",
   "metadata": {
    "execution": {
     "iopub.execute_input": "2022-12-18T04:20:28.408250Z",
     "iopub.status.busy": "2022-12-18T04:20:28.406724Z",
     "iopub.status.idle": "2022-12-18T04:20:28.730481Z",
     "shell.execute_reply": "2022-12-18T04:20:28.729480Z"
    },
    "papermill": {
     "duration": 0.345213,
     "end_time": "2022-12-18T04:20:28.732713",
     "exception": false,
     "start_time": "2022-12-18T04:20:28.387500",
     "status": "completed"
    },
    "tags": []
   },
   "outputs": [
    {
     "data": {
      "image/png": "[encoded data removed]",
      "text/plain": [
       "<Figure size 432x288 with 1 Axes>"
      ]
     },
     "metadata": {},
     "output_type": "display_data"
    }
   ],
   "source": [
    "# Age Distribution\n",
    "ax = sns.histplot(x=data['Age'], bins=10, kde=True)\n",
    "ax.set_ylabel('Number of Passengers')\n",
    "ax.set_title('Age Distribution', fontsize=20)\n",
    "sns.despine(offset=5, trim=True)\n"
   ]
  },
  {
   "cell_type": "code",
   "execution_count": 13,
   "id": "fbc419cb",
   "metadata": {
    "execution": {
     "iopub.execute_input": "2022-12-18T04:20:28.769100Z",
     "iopub.status.busy": "2022-12-18T04:20:28.768632Z",
     "iopub.status.idle": "2022-12-18T04:20:30.207187Z",
     "shell.execute_reply": "2022-12-18T04:20:30.205894Z"
    },
    "papermill": {
     "duration": 1.45982,
     "end_time": "2022-12-18T04:20:30.209664",
     "exception": false,
     "start_time": "2022-12-18T04:20:28.749844",
     "status": "completed"
    },
    "tags": []
   },
   "outputs": [
    {
     "data": {
      "text/plain": [
       "<seaborn.axisgrid.FacetGrid at 0x194d0b3da00>"
      ]
     },
     "execution_count": 13,
     "metadata": {},
     "output_type": "execute_result"
    },
    {
     "data": {
      "image/png": "[encoded data removed]",
      "text/plain": [
       "<Figure size 360x360 with 1 Axes>"
      ]
     },
     "metadata": {},
     "output_type": "display_data"
    },
    {
     "data": {
      "image/png": "[encoded data removed]",
      "text/plain": [
       "<Figure size 396.555x360 with 1 Axes>"
      ]
     },
     "metadata": {},
     "output_type": "display_data"
    },
    {
     "data": {
      "image/png": "[encoded data removed]",
      "text/plain": [
       "<Figure size 360x360 with 1 Axes>"
      ]
     },
     "metadata": {},
     "output_type": "display_data"
    },
    {
     "data": {
      "image/png": "[encoded data removed]",
      "text/plain": [
       "<Figure size 360x360 with 1 Axes>"
      ]
     },
     "metadata": {},
     "output_type": "display_data"
    }
   ],
   "source": [
    "# Explore Age\n",
    "\n",
    "ax = sns.catplot(y=\"Age\",x=\"Sex\",data=data,kind=\"box\")\n",
    "ax.despine(offset=1, trim=True)\n",
    "ax = sns.catplot(y=\"Age\",x=\"Sex\",hue=\"Pclass\", data=data,kind=\"box\")\n",
    "ax.despine(offset=1, trim=True)\n",
    "ax = sns.catplot(y=\"Age\",x=\"Parch\", data=data,kind=\"box\")\n",
    "ax.despine(offset=1, trim=True)\n",
    "ax = sns.catplot(y=\"Age\",x=\"SibSp\", data=data,kind=\"box\")\n",
    "ax.despine(offset=1, trim=True)\n",
    "\n"
   ]
  },
  {
   "cell_type": "markdown",
   "id": "0bc5470a",
   "metadata": {
    "papermill": {
     "duration": 0.017734,
     "end_time": "2022-12-18T04:20:30.245846",
     "exception": false,
     "start_time": "2022-12-18T04:20:30.228112",
     "status": "completed"
    },
    "tags": []
   },
   "source": [
    "## Observations\n",
    "* Age and **Sex** has almost **same distribution**.\n",
    "* **1st class** passenger are **older** then **2nd class**, and 2nd are **older** then **3rd class**.\n",
    "* Person having more **parents/children** are **older**.\n",
    "* Person having more **siblings/spouse** are **younger**."
   ]
  },
  {
   "cell_type": "code",
   "execution_count": 14,
   "id": "ee52b841",
   "metadata": {
    "execution": {
     "iopub.execute_input": "2022-12-18T04:20:30.285307Z",
     "iopub.status.busy": "2022-12-18T04:20:30.284877Z",
     "iopub.status.idle": "2022-12-18T04:20:30.601062Z",
     "shell.execute_reply": "2022-12-18T04:20:30.599919Z"
    },
    "papermill": {
     "duration": 0.339028,
     "end_time": "2022-12-18T04:20:30.603723",
     "exception": false,
     "start_time": "2022-12-18T04:20:30.264695",
     "status": "completed"
    },
    "tags": []
   },
   "outputs": [
    {
     "data": {
      "text/plain": [
       "Text(0.5, 1.0, 'Correlation of Age\\n')"
      ]
     },
     "execution_count": 14,
     "metadata": {},
     "output_type": "execute_result"
    },
    {
     "data": {
      "image/png": "[encoded data removed]",
      "text/plain": [
       "<Figure size 432x288 with 2 Axes>"
      ]
     },
     "metadata": {},
     "output_type": "display_data"
    }
   ],
   "source": [
    "# Convert Sex 0, 1 into male female\n",
    "data['Sex'] = data['Sex'].map({'male': 0, 'female': 1})\n",
    "ax = sns.heatmap(data=data[['Age','Sex','Pclass', 'Parch', 'SibSp']].corr(), cmap='gist_heat' , annot=True)\n",
    "ax.set_title('Correlation of Age\\n', fontsize=20)"
   ]
  },
  {
   "cell_type": "markdown",
   "id": "5ea466f1",
   "metadata": {
    "papermill": {
     "duration": 0.018388,
     "end_time": "2022-12-18T04:20:30.641175",
     "exception": false,
     "start_time": "2022-12-18T04:20:30.622787",
     "status": "completed"
    },
    "tags": []
   },
   "source": [
    "### Observations\n",
    "* Above heatmap **confirms the catplots except Parch**. age is not correlated with sex, But **negativly correlated with Parch, Pclass, SibSp**"
   ]
  },
  {
   "cell_type": "code",
   "execution_count": 15,
   "id": "f56faef8",
   "metadata": {
    "execution": {
     "iopub.execute_input": "2022-12-18T04:20:30.680733Z",
     "iopub.status.busy": "2022-12-18T04:20:30.679826Z",
     "iopub.status.idle": "2022-12-18T04:20:30.716993Z",
     "shell.execute_reply": "2022-12-18T04:20:30.715274Z"
    },
    "papermill": {
     "duration": 0.059849,
     "end_time": "2022-12-18T04:20:30.719572",
     "exception": false,
     "start_time": "2022-12-18T04:20:30.659723",
     "status": "completed"
    },
    "tags": []
   },
   "outputs": [],
   "source": [
    "# Imputate missing values of age wrt Parch, SibSp, Parch, Pclass\n",
    "data['Age'] = data.groupby(['Parch', 'SibSp', 'Pclass'])['Age'].apply(lambda i:i.fillna(i.median()))\n",
    "data['Age'] = data['Age'].fillna(data['Age'].median())\n",
    "\n",
    "# delete cabin data becuase it contains % missing data\n",
    "data = data.drop('Cabin', axis=1)\n",
    "\n",
    "# fill missing values in Embarked with mode\n",
    "data.Embarked = data.Embarked.fillna('S')\n",
    "\n",
    "# Fill missing values in Fare with median\n",
    "data['Fare'] = data['Fare'].fillna(data['Fare'].median())\n"
   ]
  },
  {
   "cell_type": "code",
   "execution_count": 16,
   "id": "11f082ba",
   "metadata": {
    "execution": {
     "iopub.execute_input": "2022-12-18T04:20:30.759402Z",
     "iopub.status.busy": "2022-12-18T04:20:30.758959Z",
     "iopub.status.idle": "2022-12-18T04:20:30.772002Z",
     "shell.execute_reply": "2022-12-18T04:20:30.770402Z"
    },
    "papermill": {
     "duration": 0.036338,
     "end_time": "2022-12-18T04:20:30.774803",
     "exception": false,
     "start_time": "2022-12-18T04:20:30.738465",
     "status": "completed"
    },
    "tags": []
   },
   "outputs": [
    {
     "name": "stdout",
     "output_type": "stream",
     "text": [
      "Missing Values afer imputation \n",
      "\n"
     ]
    },
    {
     "data": {
      "text/plain": [
       "PassengerId     0.000000\n",
       "Survived       31.932773\n",
       "Pclass          0.000000\n",
       "Name            0.000000\n",
       "Sex             0.000000\n",
       "Age             0.000000\n",
       "SibSp           0.000000\n",
       "Parch           0.000000\n",
       "Ticket          0.000000\n",
       "Fare            0.000000\n",
       "Embarked        0.000000\n",
       "source          0.000000\n",
       "dtype: float64"
      ]
     },
     "execution_count": 16,
     "metadata": {},
     "output_type": "execute_result"
    }
   ],
   "source": [
    "print('Missing Values afer imputation \\n')\n",
    "(data.isnull().sum()/data.shape[0]) * 100"
   ]
  },
  {
   "cell_type": "markdown",
   "id": "5713a9f2",
   "metadata": {
    "papermill": {
     "duration": 0.019425,
     "end_time": "2022-12-18T04:20:30.813511",
     "exception": false,
     "start_time": "2022-12-18T04:20:30.794086",
     "status": "completed"
    },
    "tags": []
   },
   "source": [
    "* ### Outliers"
   ]
  },
  {
   "cell_type": "code",
   "execution_count": 17,
   "id": "474246b8",
   "metadata": {
    "execution": {
     "iopub.execute_input": "2022-12-18T04:20:30.854271Z",
     "iopub.status.busy": "2022-12-18T04:20:30.853854Z",
     "iopub.status.idle": "2022-12-18T04:20:30.890449Z",
     "shell.execute_reply": "2022-12-18T04:20:30.888904Z"
    },
    "papermill": {
     "duration": 0.059787,
     "end_time": "2022-12-18T04:20:30.892921",
     "exception": false,
     "start_time": "2022-12-18T04:20:30.833134",
     "status": "completed"
    },
    "tags": []
   },
   "outputs": [
    {
     "name": "stdout",
     "output_type": "stream",
     "text": [
      "Outliers \n",
      "\n",
      "\n"
     ]
    },
    {
     "data": {
      "text/html": [
       "<div>\n",
       "<style scoped>\n",
       "    .dataframe tbody tr th:only-of-type {\n",
       "        vertical-align: middle;\n",
       "    }\n",
       "\n",
       "    .dataframe tbody tr th {\n",
       "        vertical-align: top;\n",
       "    }\n",
       "\n",
       "    .dataframe thead th {\n",
       "        text-align: right;\n",
       "    }\n",
       "</style>\n",
       "<table border=\"1\" class=\"dataframe\">\n",
       "  <thead>\n",
       "    <tr style=\"text-align: right;\">\n",
       "      <th></th>\n",
       "      <th>PassengerId</th>\n",
       "      <th>Survived</th>\n",
       "      <th>Pclass</th>\n",
       "      <th>Name</th>\n",
       "      <th>Sex</th>\n",
       "      <th>Age</th>\n",
       "      <th>SibSp</th>\n",
       "      <th>Parch</th>\n",
       "      <th>Ticket</th>\n",
       "      <th>Fare</th>\n",
       "      <th>Embarked</th>\n",
       "      <th>source</th>\n",
       "    </tr>\n",
       "  </thead>\n",
       "  <tbody>\n",
       "    <tr>\n",
       "      <th>438</th>\n",
       "      <td>439</td>\n",
       "      <td>0.0</td>\n",
       "      <td>1</td>\n",
       "      <td>Fortune, Mr. Mark</td>\n",
       "      <td>0</td>\n",
       "      <td>64.0</td>\n",
       "      <td>1</td>\n",
       "      <td>4</td>\n",
       "      <td>19950</td>\n",
       "      <td>263.0000</td>\n",
       "      <td>S</td>\n",
       "      <td>train</td>\n",
       "    </tr>\n",
       "    <tr>\n",
       "      <th>587</th>\n",
       "      <td>588</td>\n",
       "      <td>1.0</td>\n",
       "      <td>1</td>\n",
       "      <td>Frolicher-Stehli, Mr. Maxmillian</td>\n",
       "      <td>0</td>\n",
       "      <td>60.0</td>\n",
       "      <td>1</td>\n",
       "      <td>1</td>\n",
       "      <td>13567</td>\n",
       "      <td>79.2000</td>\n",
       "      <td>C</td>\n",
       "      <td>train</td>\n",
       "    </tr>\n",
       "    <tr>\n",
       "      <th>745</th>\n",
       "      <td>746</td>\n",
       "      <td>0.0</td>\n",
       "      <td>1</td>\n",
       "      <td>Crosby, Capt. Edward Gifford</td>\n",
       "      <td>0</td>\n",
       "      <td>70.0</td>\n",
       "      <td>1</td>\n",
       "      <td>1</td>\n",
       "      <td>WE/P 5735</td>\n",
       "      <td>71.0000</td>\n",
       "      <td>S</td>\n",
       "      <td>train</td>\n",
       "    </tr>\n",
       "    <tr>\n",
       "      <th>960</th>\n",
       "      <td>961</td>\n",
       "      <td>NaN</td>\n",
       "      <td>1</td>\n",
       "      <td>Fortune, Mrs. Mark (Mary McDougald)</td>\n",
       "      <td>1</td>\n",
       "      <td>60.0</td>\n",
       "      <td>1</td>\n",
       "      <td>4</td>\n",
       "      <td>19950</td>\n",
       "      <td>263.0000</td>\n",
       "      <td>S</td>\n",
       "      <td>test</td>\n",
       "    </tr>\n",
       "    <tr>\n",
       "      <th>1033</th>\n",
       "      <td>1034</td>\n",
       "      <td>NaN</td>\n",
       "      <td>1</td>\n",
       "      <td>Ryerson, Mr. Arthur Larned</td>\n",
       "      <td>0</td>\n",
       "      <td>61.0</td>\n",
       "      <td>1</td>\n",
       "      <td>3</td>\n",
       "      <td>PC 17608</td>\n",
       "      <td>262.3750</td>\n",
       "      <td>C</td>\n",
       "      <td>test</td>\n",
       "    </tr>\n",
       "    <tr>\n",
       "      <th>1070</th>\n",
       "      <td>1071</td>\n",
       "      <td>NaN</td>\n",
       "      <td>1</td>\n",
       "      <td>Compton, Mrs. Alexander Taylor (Mary Eliza Ing...</td>\n",
       "      <td>1</td>\n",
       "      <td>64.0</td>\n",
       "      <td>0</td>\n",
       "      <td>2</td>\n",
       "      <td>PC 17756</td>\n",
       "      <td>83.1583</td>\n",
       "      <td>C</td>\n",
       "      <td>test</td>\n",
       "    </tr>\n",
       "    <tr>\n",
       "      <th>27</th>\n",
       "      <td>28</td>\n",
       "      <td>0.0</td>\n",
       "      <td>1</td>\n",
       "      <td>Fortune, Mr. Charles Alexander</td>\n",
       "      <td>0</td>\n",
       "      <td>19.0</td>\n",
       "      <td>3</td>\n",
       "      <td>2</td>\n",
       "      <td>19950</td>\n",
       "      <td>263.0000</td>\n",
       "      <td>S</td>\n",
       "      <td>train</td>\n",
       "    </tr>\n",
       "    <tr>\n",
       "      <th>88</th>\n",
       "      <td>89</td>\n",
       "      <td>1.0</td>\n",
       "      <td>1</td>\n",
       "      <td>Fortune, Miss. Mabel Helen</td>\n",
       "      <td>1</td>\n",
       "      <td>23.0</td>\n",
       "      <td>3</td>\n",
       "      <td>2</td>\n",
       "      <td>19950</td>\n",
       "      <td>263.0000</td>\n",
       "      <td>S</td>\n",
       "      <td>train</td>\n",
       "    </tr>\n",
       "    <tr>\n",
       "      <th>159</th>\n",
       "      <td>160</td>\n",
       "      <td>0.0</td>\n",
       "      <td>3</td>\n",
       "      <td>Sage, Master. Thomas Henry</td>\n",
       "      <td>0</td>\n",
       "      <td>14.5</td>\n",
       "      <td>8</td>\n",
       "      <td>2</td>\n",
       "      <td>CA. 2343</td>\n",
       "      <td>69.5500</td>\n",
       "      <td>S</td>\n",
       "      <td>train</td>\n",
       "    </tr>\n",
       "    <tr>\n",
       "      <th>180</th>\n",
       "      <td>181</td>\n",
       "      <td>0.0</td>\n",
       "      <td>3</td>\n",
       "      <td>Sage, Miss. Constance Gladys</td>\n",
       "      <td>1</td>\n",
       "      <td>14.5</td>\n",
       "      <td>8</td>\n",
       "      <td>2</td>\n",
       "      <td>CA. 2343</td>\n",
       "      <td>69.5500</td>\n",
       "      <td>S</td>\n",
       "      <td>train</td>\n",
       "    </tr>\n",
       "    <tr>\n",
       "      <th>201</th>\n",
       "      <td>202</td>\n",
       "      <td>0.0</td>\n",
       "      <td>3</td>\n",
       "      <td>Sage, Mr. Frederick</td>\n",
       "      <td>0</td>\n",
       "      <td>14.5</td>\n",
       "      <td>8</td>\n",
       "      <td>2</td>\n",
       "      <td>CA. 2343</td>\n",
       "      <td>69.5500</td>\n",
       "      <td>S</td>\n",
       "      <td>train</td>\n",
       "    </tr>\n",
       "    <tr>\n",
       "      <th>324</th>\n",
       "      <td>325</td>\n",
       "      <td>0.0</td>\n",
       "      <td>3</td>\n",
       "      <td>Sage, Mr. George John Jr</td>\n",
       "      <td>0</td>\n",
       "      <td>14.5</td>\n",
       "      <td>8</td>\n",
       "      <td>2</td>\n",
       "      <td>CA. 2343</td>\n",
       "      <td>69.5500</td>\n",
       "      <td>S</td>\n",
       "      <td>train</td>\n",
       "    </tr>\n",
       "    <tr>\n",
       "      <th>341</th>\n",
       "      <td>342</td>\n",
       "      <td>1.0</td>\n",
       "      <td>1</td>\n",
       "      <td>Fortune, Miss. Alice Elizabeth</td>\n",
       "      <td>1</td>\n",
       "      <td>24.0</td>\n",
       "      <td>3</td>\n",
       "      <td>2</td>\n",
       "      <td>19950</td>\n",
       "      <td>263.0000</td>\n",
       "      <td>S</td>\n",
       "      <td>train</td>\n",
       "    </tr>\n",
       "    <tr>\n",
       "      <th>792</th>\n",
       "      <td>793</td>\n",
       "      <td>0.0</td>\n",
       "      <td>3</td>\n",
       "      <td>Sage, Miss. Stella Anna</td>\n",
       "      <td>1</td>\n",
       "      <td>14.5</td>\n",
       "      <td>8</td>\n",
       "      <td>2</td>\n",
       "      <td>CA. 2343</td>\n",
       "      <td>69.5500</td>\n",
       "      <td>S</td>\n",
       "      <td>train</td>\n",
       "    </tr>\n",
       "    <tr>\n",
       "      <th>846</th>\n",
       "      <td>847</td>\n",
       "      <td>0.0</td>\n",
       "      <td>3</td>\n",
       "      <td>Sage, Mr. Douglas Bullen</td>\n",
       "      <td>0</td>\n",
       "      <td>14.5</td>\n",
       "      <td>8</td>\n",
       "      <td>2</td>\n",
       "      <td>CA. 2343</td>\n",
       "      <td>69.5500</td>\n",
       "      <td>S</td>\n",
       "      <td>train</td>\n",
       "    </tr>\n",
       "    <tr>\n",
       "      <th>863</th>\n",
       "      <td>864</td>\n",
       "      <td>0.0</td>\n",
       "      <td>3</td>\n",
       "      <td>Sage, Miss. Dorothy Edith \"Dolly\"</td>\n",
       "      <td>1</td>\n",
       "      <td>14.5</td>\n",
       "      <td>8</td>\n",
       "      <td>2</td>\n",
       "      <td>CA. 2343</td>\n",
       "      <td>69.5500</td>\n",
       "      <td>S</td>\n",
       "      <td>train</td>\n",
       "    </tr>\n",
       "    <tr>\n",
       "      <th>944</th>\n",
       "      <td>945</td>\n",
       "      <td>NaN</td>\n",
       "      <td>1</td>\n",
       "      <td>Fortune, Miss. Ethel Flora</td>\n",
       "      <td>1</td>\n",
       "      <td>28.0</td>\n",
       "      <td>3</td>\n",
       "      <td>2</td>\n",
       "      <td>19950</td>\n",
       "      <td>263.0000</td>\n",
       "      <td>S</td>\n",
       "      <td>test</td>\n",
       "    </tr>\n",
       "    <tr>\n",
       "      <th>1079</th>\n",
       "      <td>1080</td>\n",
       "      <td>NaN</td>\n",
       "      <td>3</td>\n",
       "      <td>Sage, Miss. Ada</td>\n",
       "      <td>1</td>\n",
       "      <td>14.5</td>\n",
       "      <td>8</td>\n",
       "      <td>2</td>\n",
       "      <td>CA. 2343</td>\n",
       "      <td>69.5500</td>\n",
       "      <td>S</td>\n",
       "      <td>test</td>\n",
       "    </tr>\n",
       "    <tr>\n",
       "      <th>1251</th>\n",
       "      <td>1252</td>\n",
       "      <td>NaN</td>\n",
       "      <td>3</td>\n",
       "      <td>Sage, Master. William Henry</td>\n",
       "      <td>0</td>\n",
       "      <td>14.5</td>\n",
       "      <td>8</td>\n",
       "      <td>2</td>\n",
       "      <td>CA. 2343</td>\n",
       "      <td>69.5500</td>\n",
       "      <td>S</td>\n",
       "      <td>test</td>\n",
       "    </tr>\n",
       "  </tbody>\n",
       "</table>\n",
       "</div>"
      ],
      "text/plain": [
       "      PassengerId  Survived  Pclass  \\\n",
       "438           439       0.0       1   \n",
       "587           588       1.0       1   \n",
       "745           746       0.0       1   \n",
       "960           961       NaN       1   \n",
       "1033         1034       NaN       1   \n",
       "1070         1071       NaN       1   \n",
       "27             28       0.0       1   \n",
       "88             89       1.0       1   \n",
       "159           160       0.0       3   \n",
       "180           181       0.0       3   \n",
       "201           202       0.0       3   \n",
       "324           325       0.0       3   \n",
       "341           342       1.0       1   \n",
       "792           793       0.0       3   \n",
       "846           847       0.0       3   \n",
       "863           864       0.0       3   \n",
       "944           945       NaN       1   \n",
       "1079         1080       NaN       3   \n",
       "1251         1252       NaN       3   \n",
       "\n",
       "                                                   Name  Sex   Age  SibSp  \\\n",
       "438                                   Fortune, Mr. Mark    0  64.0      1   \n",
       "587                    Frolicher-Stehli, Mr. Maxmillian    0  60.0      1   \n",
       "745                        Crosby, Capt. Edward Gifford    0  70.0      1   \n",
       "960                 Fortune, Mrs. Mark (Mary McDougald)    1  60.0      1   \n",
       "1033                         Ryerson, Mr. Arthur Larned    0  61.0      1   \n",
       "1070  Compton, Mrs. Alexander Taylor (Mary Eliza Ing...    1  64.0      0   \n",
       "27                       Fortune, Mr. Charles Alexander    0  19.0      3   \n",
       "88                           Fortune, Miss. Mabel Helen    1  23.0      3   \n",
       "159                          Sage, Master. Thomas Henry    0  14.5      8   \n",
       "180                        Sage, Miss. Constance Gladys    1  14.5      8   \n",
       "201                                 Sage, Mr. Frederick    0  14.5      8   \n",
       "324                            Sage, Mr. George John Jr    0  14.5      8   \n",
       "341                      Fortune, Miss. Alice Elizabeth    1  24.0      3   \n",
       "792                             Sage, Miss. Stella Anna    1  14.5      8   \n",
       "846                            Sage, Mr. Douglas Bullen    0  14.5      8   \n",
       "863                   Sage, Miss. Dorothy Edith \"Dolly\"    1  14.5      8   \n",
       "944                          Fortune, Miss. Ethel Flora    1  28.0      3   \n",
       "1079                                    Sage, Miss. Ada    1  14.5      8   \n",
       "1251                        Sage, Master. William Henry    0  14.5      8   \n",
       "\n",
       "      Parch     Ticket      Fare Embarked source  \n",
       "438       4      19950  263.0000        S  train  \n",
       "587       1      13567   79.2000        C  train  \n",
       "745       1  WE/P 5735   71.0000        S  train  \n",
       "960       4      19950  263.0000        S   test  \n",
       "1033      3   PC 17608  262.3750        C   test  \n",
       "1070      2   PC 17756   83.1583        C   test  \n",
       "27        2      19950  263.0000        S  train  \n",
       "88        2      19950  263.0000        S  train  \n",
       "159       2   CA. 2343   69.5500        S  train  \n",
       "180       2   CA. 2343   69.5500        S  train  \n",
       "201       2   CA. 2343   69.5500        S  train  \n",
       "324       2   CA. 2343   69.5500        S  train  \n",
       "341       2      19950  263.0000        S  train  \n",
       "792       2   CA. 2343   69.5500        S  train  \n",
       "846       2   CA. 2343   69.5500        S  train  \n",
       "863       2   CA. 2343   69.5500        S  train  \n",
       "944       2      19950  263.0000        S   test  \n",
       "1079      2   CA. 2343   69.5500        S   test  \n",
       "1251      2   CA. 2343   69.5500        S   test  "
      ]
     },
     "execution_count": 17,
     "metadata": {},
     "output_type": "execute_result"
    }
   ],
   "source": [
    "# Outlier detection \n",
    "\n",
    "def detect_outliers(df,n,features):\n",
    "    \"\"\"\n",
    "    Takes a dataframe df of features and returns a list of the indices\n",
    "    corresponding to the observations containing more than n outliers according\n",
    "    to the Tukey method.\n",
    "    \"\"\"\n",
    "    outlier_indices = []\n",
    "    \n",
    "    # iterate over features(columns)\n",
    "    for col in features:\n",
    "        # 1st quartile (25%)\n",
    "        Q1 = np.percentile(df[col], 25)\n",
    "        # 3rd quartile (75%)\n",
    "        Q3 = np.percentile(df[col],75)\n",
    "        # Interquartile range (IQR)\n",
    "        IQR = Q3 - Q1\n",
    "        \n",
    "        # outlier step\n",
    "        outlier_step = 1.5 * IQR\n",
    "        \n",
    "        # Determine a list of indices of outliers for feature col\n",
    "        outlier_list_col = df[(df[col] < Q1 - outlier_step) | (df[col] > Q3 + outlier_step )].index\n",
    "        \n",
    "        # append the found outlier indices for col to the list of outlier indices \n",
    "        outlier_indices.extend(outlier_list_col)\n",
    "        \n",
    "    # select observations containing more than 2 outliers\n",
    "    outlier_indices = Counter(outlier_indices)        \n",
    "    multiple_outliers = list( k for k, v in outlier_indices.items() if v > n )\n",
    "    return multiple_outliers\n",
    "\n",
    "# detect outliers from Age, SibSp , Parch and Fare\n",
    "Outliers_to_drop = detect_outliers(data,2,[\"Age\",\"SibSp\",\"Parch\",\"Fare\"])\n",
    "\n",
    "#  Show the outliers rows\n",
    "print(\"Outliers \\n\\n\")\n",
    "data.loc[Outliers_to_drop]\n",
    "#  Show the outliers rows"
   ]
  },
  {
   "cell_type": "code",
   "execution_count": 18,
   "id": "93844217",
   "metadata": {
    "execution": {
     "iopub.execute_input": "2022-12-18T04:20:30.934918Z",
     "iopub.status.busy": "2022-12-18T04:20:30.933958Z",
     "iopub.status.idle": "2022-12-18T04:20:30.941643Z",
     "shell.execute_reply": "2022-12-18T04:20:30.940557Z"
    },
    "papermill": {
     "duration": 0.030997,
     "end_time": "2022-12-18T04:20:30.943990",
     "exception": false,
     "start_time": "2022-12-18T04:20:30.912993",
     "status": "completed"
    },
    "tags": []
   },
   "outputs": [],
   "source": [
    "# Drop outliers\n",
    "data = data.drop(Outliers_to_drop, axis = 0).reset_index(drop=True)"
   ]
  },
  {
   "cell_type": "code",
   "execution_count": 19,
   "id": "747b463e",
   "metadata": {
    "execution": {
     "iopub.execute_input": "2022-12-18T04:20:30.986009Z",
     "iopub.status.busy": "2022-12-18T04:20:30.985021Z",
     "iopub.status.idle": "2022-12-18T04:20:31.005110Z",
     "shell.execute_reply": "2022-12-18T04:20:31.003681Z"
    },
    "papermill": {
     "duration": 0.043819,
     "end_time": "2022-12-18T04:20:31.007750",
     "exception": false,
     "start_time": "2022-12-18T04:20:30.963931",
     "status": "completed"
    },
    "tags": []
   },
   "outputs": [
    {
     "data": {
      "text/html": [
       "<div>\n",
       "<style scoped>\n",
       "    .dataframe tbody tr th:only-of-type {\n",
       "        vertical-align: middle;\n",
       "    }\n",
       "\n",
       "    .dataframe tbody tr th {\n",
       "        vertical-align: top;\n",
       "    }\n",
       "\n",
       "    .dataframe thead th {\n",
       "        text-align: right;\n",
       "    }\n",
       "</style>\n",
       "<table border=\"1\" class=\"dataframe\">\n",
       "  <thead>\n",
       "    <tr style=\"text-align: right;\">\n",
       "      <th></th>\n",
       "      <th>PassengerId</th>\n",
       "      <th>Survived</th>\n",
       "      <th>Pclass</th>\n",
       "      <th>Name</th>\n",
       "      <th>Sex</th>\n",
       "      <th>Age</th>\n",
       "      <th>SibSp</th>\n",
       "      <th>Parch</th>\n",
       "      <th>Ticket</th>\n",
       "      <th>Fare</th>\n",
       "      <th>Embarked</th>\n",
       "      <th>source</th>\n",
       "    </tr>\n",
       "  </thead>\n",
       "  <tbody>\n",
       "    <tr>\n",
       "      <th>0</th>\n",
       "      <td>1</td>\n",
       "      <td>0.0</td>\n",
       "      <td>3</td>\n",
       "      <td>Braund, Mr. Owen Harris</td>\n",
       "      <td>0</td>\n",
       "      <td>22.0</td>\n",
       "      <td>1</td>\n",
       "      <td>0</td>\n",
       "      <td>A/5 21171</td>\n",
       "      <td>7.2500</td>\n",
       "      <td>S</td>\n",
       "      <td>train</td>\n",
       "    </tr>\n",
       "    <tr>\n",
       "      <th>1</th>\n",
       "      <td>2</td>\n",
       "      <td>1.0</td>\n",
       "      <td>1</td>\n",
       "      <td>Cumings, Mrs. John Bradley (Florence Briggs Th...</td>\n",
       "      <td>1</td>\n",
       "      <td>38.0</td>\n",
       "      <td>1</td>\n",
       "      <td>0</td>\n",
       "      <td>PC 17599</td>\n",
       "      <td>71.2833</td>\n",
       "      <td>C</td>\n",
       "      <td>train</td>\n",
       "    </tr>\n",
       "    <tr>\n",
       "      <th>2</th>\n",
       "      <td>3</td>\n",
       "      <td>1.0</td>\n",
       "      <td>3</td>\n",
       "      <td>Heikkinen, Miss. Laina</td>\n",
       "      <td>1</td>\n",
       "      <td>26.0</td>\n",
       "      <td>0</td>\n",
       "      <td>0</td>\n",
       "      <td>STON/O2. 3101282</td>\n",
       "      <td>7.9250</td>\n",
       "      <td>S</td>\n",
       "      <td>train</td>\n",
       "    </tr>\n",
       "    <tr>\n",
       "      <th>3</th>\n",
       "      <td>4</td>\n",
       "      <td>1.0</td>\n",
       "      <td>1</td>\n",
       "      <td>Futrelle, Mrs. Jacques Heath (Lily May Peel)</td>\n",
       "      <td>1</td>\n",
       "      <td>35.0</td>\n",
       "      <td>1</td>\n",
       "      <td>0</td>\n",
       "      <td>113803</td>\n",
       "      <td>53.1000</td>\n",
       "      <td>S</td>\n",
       "      <td>train</td>\n",
       "    </tr>\n",
       "    <tr>\n",
       "      <th>4</th>\n",
       "      <td>5</td>\n",
       "      <td>0.0</td>\n",
       "      <td>3</td>\n",
       "      <td>Allen, Mr. William Henry</td>\n",
       "      <td>0</td>\n",
       "      <td>35.0</td>\n",
       "      <td>0</td>\n",
       "      <td>0</td>\n",
       "      <td>373450</td>\n",
       "      <td>8.0500</td>\n",
       "      <td>S</td>\n",
       "      <td>train</td>\n",
       "    </tr>\n",
       "  </tbody>\n",
       "</table>\n",
       "</div>"
      ],
      "text/plain": [
       "   PassengerId  Survived  Pclass  \\\n",
       "0            1       0.0       3   \n",
       "1            2       1.0       1   \n",
       "2            3       1.0       3   \n",
       "3            4       1.0       1   \n",
       "4            5       0.0       3   \n",
       "\n",
       "                                                Name  Sex   Age  SibSp  Parch  \\\n",
       "0                            Braund, Mr. Owen Harris    0  22.0      1      0   \n",
       "1  Cumings, Mrs. John Bradley (Florence Briggs Th...    1  38.0      1      0   \n",
       "2                             Heikkinen, Miss. Laina    1  26.0      0      0   \n",
       "3       Futrelle, Mrs. Jacques Heath (Lily May Peel)    1  35.0      1      0   \n",
       "4                           Allen, Mr. William Henry    0  35.0      0      0   \n",
       "\n",
       "             Ticket     Fare Embarked source  \n",
       "0         A/5 21171   7.2500        S  train  \n",
       "1          PC 17599  71.2833        C  train  \n",
       "2  STON/O2. 3101282   7.9250        S  train  \n",
       "3            113803  53.1000        S  train  \n",
       "4            373450   8.0500        S  train  "
      ]
     },
     "execution_count": 19,
     "metadata": {},
     "output_type": "execute_result"
    }
   ],
   "source": [
    "data.head()"
   ]
  },
  {
   "cell_type": "markdown",
   "id": "a85d3e11",
   "metadata": {
    "papermill": {
     "duration": 0.019627,
     "end_time": "2022-12-18T04:20:31.047604",
     "exception": false,
     "start_time": "2022-12-18T04:20:31.027977",
     "status": "completed"
    },
    "tags": []
   },
   "source": [
    "#### Veriable Identification\n",
    "* Numeric Data\n",
    "* Categorical Data"
   ]
  },
  {
   "cell_type": "code",
   "execution_count": 20,
   "id": "2899971d",
   "metadata": {
    "execution": {
     "iopub.execute_input": "2022-12-18T04:20:31.089884Z",
     "iopub.status.busy": "2022-12-18T04:20:31.089317Z",
     "iopub.status.idle": "2022-12-18T04:20:31.094069Z",
     "shell.execute_reply": "2022-12-18T04:20:31.092910Z"
    },
    "papermill": {
     "duration": 0.028417,
     "end_time": "2022-12-18T04:20:31.096404",
     "exception": false,
     "start_time": "2022-12-18T04:20:31.067987",
     "status": "completed"
    },
    "tags": []
   },
   "outputs": [],
   "source": [
    "# # assign male and female to 0,1 in Sex\n",
    "# data['Sex'] = data['Sex'].map({0:'male', 1:'female'})\n",
    "\n",
    "# # assign 1st, 2nd, 3rd class to Pclass\n",
    "# data['Pclass'] = data['Pclass'].map({1:'Upper', 2:'Middle', 3:'Lower'})"
   ]
  },
  {
   "cell_type": "code",
   "execution_count": 21,
   "id": "eb959b18",
   "metadata": {
    "execution": {
     "iopub.execute_input": "2022-12-18T04:20:31.138421Z",
     "iopub.status.busy": "2022-12-18T04:20:31.137986Z",
     "iopub.status.idle": "2022-12-18T04:20:31.146470Z",
     "shell.execute_reply": "2022-12-18T04:20:31.145477Z"
    },
    "papermill": {
     "duration": 0.031963,
     "end_time": "2022-12-18T04:20:31.148568",
     "exception": false,
     "start_time": "2022-12-18T04:20:31.116605",
     "status": "completed"
    },
    "tags": []
   },
   "outputs": [],
   "source": [
    "# Separating Numeric and categorical Data\n",
    "num_df = data.select_dtypes('number')\n",
    "cat_df = data.select_dtypes('object')"
   ]
  },
  {
   "cell_type": "code",
   "execution_count": 22,
   "id": "3a5d73bf",
   "metadata": {
    "execution": {
     "iopub.execute_input": "2022-12-18T04:20:31.191714Z",
     "iopub.status.busy": "2022-12-18T04:20:31.191282Z",
     "iopub.status.idle": "2022-12-18T04:20:31.206258Z",
     "shell.execute_reply": "2022-12-18T04:20:31.205137Z"
    },
    "papermill": {
     "duration": 0.040248,
     "end_time": "2022-12-18T04:20:31.208795",
     "exception": false,
     "start_time": "2022-12-18T04:20:31.168547",
     "status": "completed"
    },
    "tags": []
   },
   "outputs": [
    {
     "data": {
      "text/html": [
       "<div>\n",
       "<style scoped>\n",
       "    .dataframe tbody tr th:only-of-type {\n",
       "        vertical-align: middle;\n",
       "    }\n",
       "\n",
       "    .dataframe tbody tr th {\n",
       "        vertical-align: top;\n",
       "    }\n",
       "\n",
       "    .dataframe thead th {\n",
       "        text-align: right;\n",
       "    }\n",
       "</style>\n",
       "<table border=\"1\" class=\"dataframe\">\n",
       "  <thead>\n",
       "    <tr style=\"text-align: right;\">\n",
       "      <th></th>\n",
       "      <th>PassengerId</th>\n",
       "      <th>Survived</th>\n",
       "      <th>Pclass</th>\n",
       "      <th>Sex</th>\n",
       "      <th>Age</th>\n",
       "      <th>SibSp</th>\n",
       "      <th>Parch</th>\n",
       "      <th>Fare</th>\n",
       "    </tr>\n",
       "  </thead>\n",
       "  <tbody>\n",
       "    <tr>\n",
       "      <th>0</th>\n",
       "      <td>1</td>\n",
       "      <td>0.0</td>\n",
       "      <td>3</td>\n",
       "      <td>0</td>\n",
       "      <td>22.0</td>\n",
       "      <td>1</td>\n",
       "      <td>0</td>\n",
       "      <td>7.2500</td>\n",
       "    </tr>\n",
       "    <tr>\n",
       "      <th>1</th>\n",
       "      <td>2</td>\n",
       "      <td>1.0</td>\n",
       "      <td>1</td>\n",
       "      <td>1</td>\n",
       "      <td>38.0</td>\n",
       "      <td>1</td>\n",
       "      <td>0</td>\n",
       "      <td>71.2833</td>\n",
       "    </tr>\n",
       "    <tr>\n",
       "      <th>2</th>\n",
       "      <td>3</td>\n",
       "      <td>1.0</td>\n",
       "      <td>3</td>\n",
       "      <td>1</td>\n",
       "      <td>26.0</td>\n",
       "      <td>0</td>\n",
       "      <td>0</td>\n",
       "      <td>7.9250</td>\n",
       "    </tr>\n",
       "    <tr>\n",
       "      <th>3</th>\n",
       "      <td>4</td>\n",
       "      <td>1.0</td>\n",
       "      <td>1</td>\n",
       "      <td>1</td>\n",
       "      <td>35.0</td>\n",
       "      <td>1</td>\n",
       "      <td>0</td>\n",
       "      <td>53.1000</td>\n",
       "    </tr>\n",
       "    <tr>\n",
       "      <th>4</th>\n",
       "      <td>5</td>\n",
       "      <td>0.0</td>\n",
       "      <td>3</td>\n",
       "      <td>0</td>\n",
       "      <td>35.0</td>\n",
       "      <td>0</td>\n",
       "      <td>0</td>\n",
       "      <td>8.0500</td>\n",
       "    </tr>\n",
       "  </tbody>\n",
       "</table>\n",
       "</div>"
      ],
      "text/plain": [
       "   PassengerId  Survived  Pclass  Sex   Age  SibSp  Parch     Fare\n",
       "0            1       0.0       3    0  22.0      1      0   7.2500\n",
       "1            2       1.0       1    1  38.0      1      0  71.2833\n",
       "2            3       1.0       3    1  26.0      0      0   7.9250\n",
       "3            4       1.0       1    1  35.0      1      0  53.1000\n",
       "4            5       0.0       3    0  35.0      0      0   8.0500"
      ]
     },
     "execution_count": 22,
     "metadata": {},
     "output_type": "execute_result"
    }
   ],
   "source": [
    "#Numeric Data\n",
    "num_df.head()"
   ]
  },
  {
   "cell_type": "code",
   "execution_count": 23,
   "id": "b39e890e",
   "metadata": {
    "execution": {
     "iopub.execute_input": "2022-12-18T04:20:31.252213Z",
     "iopub.status.busy": "2022-12-18T04:20:31.251442Z",
     "iopub.status.idle": "2022-12-18T04:20:31.263493Z",
     "shell.execute_reply": "2022-12-18T04:20:31.262399Z"
    },
    "papermill": {
     "duration": 0.03684,
     "end_time": "2022-12-18T04:20:31.265802",
     "exception": false,
     "start_time": "2022-12-18T04:20:31.228962",
     "status": "completed"
    },
    "tags": []
   },
   "outputs": [
    {
     "data": {
      "text/html": [
       "<div>\n",
       "<style scoped>\n",
       "    .dataframe tbody tr th:only-of-type {\n",
       "        vertical-align: middle;\n",
       "    }\n",
       "\n",
       "    .dataframe tbody tr th {\n",
       "        vertical-align: top;\n",
       "    }\n",
       "\n",
       "    .dataframe thead th {\n",
       "        text-align: right;\n",
       "    }\n",
       "</style>\n",
       "<table border=\"1\" class=\"dataframe\">\n",
       "  <thead>\n",
       "    <tr style=\"text-align: right;\">\n",
       "      <th></th>\n",
       "      <th>Name</th>\n",
       "      <th>Ticket</th>\n",
       "      <th>Embarked</th>\n",
       "      <th>source</th>\n",
       "    </tr>\n",
       "  </thead>\n",
       "  <tbody>\n",
       "    <tr>\n",
       "      <th>0</th>\n",
       "      <td>Braund, Mr. Owen Harris</td>\n",
       "      <td>A/5 21171</td>\n",
       "      <td>S</td>\n",
       "      <td>train</td>\n",
       "    </tr>\n",
       "    <tr>\n",
       "      <th>1</th>\n",
       "      <td>Cumings, Mrs. John Bradley (Florence Briggs Th...</td>\n",
       "      <td>PC 17599</td>\n",
       "      <td>C</td>\n",
       "      <td>train</td>\n",
       "    </tr>\n",
       "    <tr>\n",
       "      <th>2</th>\n",
       "      <td>Heikkinen, Miss. Laina</td>\n",
       "      <td>STON/O2. 3101282</td>\n",
       "      <td>S</td>\n",
       "      <td>train</td>\n",
       "    </tr>\n",
       "    <tr>\n",
       "      <th>3</th>\n",
       "      <td>Futrelle, Mrs. Jacques Heath (Lily May Peel)</td>\n",
       "      <td>113803</td>\n",
       "      <td>S</td>\n",
       "      <td>train</td>\n",
       "    </tr>\n",
       "    <tr>\n",
       "      <th>4</th>\n",
       "      <td>Allen, Mr. William Henry</td>\n",
       "      <td>373450</td>\n",
       "      <td>S</td>\n",
       "      <td>train</td>\n",
       "    </tr>\n",
       "  </tbody>\n",
       "</table>\n",
       "</div>"
      ],
      "text/plain": [
       "                                                Name            Ticket  \\\n",
       "0                            Braund, Mr. Owen Harris         A/5 21171   \n",
       "1  Cumings, Mrs. John Bradley (Florence Briggs Th...          PC 17599   \n",
       "2                             Heikkinen, Miss. Laina  STON/O2. 3101282   \n",
       "3       Futrelle, Mrs. Jacques Heath (Lily May Peel)            113803   \n",
       "4                           Allen, Mr. William Henry            373450   \n",
       "\n",
       "  Embarked source  \n",
       "0        S  train  \n",
       "1        C  train  \n",
       "2        S  train  \n",
       "3        S  train  \n",
       "4        S  train  "
      ]
     },
     "execution_count": 23,
     "metadata": {},
     "output_type": "execute_result"
    }
   ],
   "source": [
    "cat_df.head()"
   ]
  },
  {
   "cell_type": "markdown",
   "id": "7a9b13bd",
   "metadata": {
    "papermill": {
     "duration": 0.02025,
     "end_time": "2022-12-18T04:20:31.306612",
     "exception": false,
     "start_time": "2022-12-18T04:20:31.286362",
     "status": "completed"
    },
    "tags": []
   },
   "source": [
    "#### Univariate and Bivariate Analysis\n",
    "* Numeric Data\n",
    "* Categorical Data"
   ]
  },
  {
   "cell_type": "code",
   "execution_count": 24,
   "id": "f51279a3",
   "metadata": {
    "execution": {
     "iopub.execute_input": "2022-12-18T04:20:31.351063Z",
     "iopub.status.busy": "2022-12-18T04:20:31.350240Z",
     "iopub.status.idle": "2022-12-18T04:20:31.782660Z",
     "shell.execute_reply": "2022-12-18T04:20:31.781515Z"
    },
    "papermill": {
     "duration": 0.458487,
     "end_time": "2022-12-18T04:20:31.785485",
     "exception": false,
     "start_time": "2022-12-18T04:20:31.326998",
     "status": "completed"
    },
    "tags": []
   },
   "outputs": [
    {
     "data": {
      "text/plain": [
       "Text(0.5, 1.0, 'Correlation of Survived with  Numeric Data\\n')"
      ]
     },
     "execution_count": 24,
     "metadata": {},
     "output_type": "execute_result"
    },
    {
     "data": {
      "image/png": "[encoded data removed]",
      "text/plain": [
       "<Figure size 432x288 with 2 Axes>"
      ]
     },
     "metadata": {},
     "output_type": "display_data"
    }
   ],
   "source": [
    "# Check Correlation\n",
    "ax = sns.heatmap(data=train[num_df.columns[1:]].corr(), cmap='YlOrBr', fmt='.2f', annot=True)\n",
    "ax.set_title('Correlation of Survived with  Numeric Data\\n', fontsize=20)"
   ]
  },
  {
   "cell_type": "markdown",
   "id": "bcf5d0b7",
   "metadata": {
    "papermill": {
     "duration": 0.020934,
     "end_time": "2022-12-18T04:20:31.827900",
     "exception": false,
     "start_time": "2022-12-18T04:20:31.806966",
     "status": "completed"
    },
    "tags": []
   },
   "source": [
    "### Realizations\n",
    "* Only **Fare** seems to have a **positive** correlation wirh surviving.\n",
    "* **Pclass** has the **worst** correlation of all with suriving"
   ]
  },
  {
   "cell_type": "code",
   "execution_count": 25,
   "id": "057cbd1c",
   "metadata": {
    "execution": {
     "iopub.execute_input": "2022-12-18T04:20:31.872219Z",
     "iopub.status.busy": "2022-12-18T04:20:31.871721Z",
     "iopub.status.idle": "2022-12-18T04:20:32.561946Z",
     "shell.execute_reply": "2022-12-18T04:20:32.560746Z"
    },
    "papermill": {
     "duration": 0.715164,
     "end_time": "2022-12-18T04:20:32.564240",
     "exception": false,
     "start_time": "2022-12-18T04:20:31.849076",
     "status": "completed"
    },
    "tags": []
   },
   "outputs": [
    {
     "name": "stderr",
     "output_type": "stream",
     "text": [
      "C:\\Users\\Administrator\\anaconda3\\lib\\site-packages\\seaborn\\distributions.py:2619: FutureWarning: `distplot` is a deprecated function and will be removed in a future version. Please adapt your code to use either `displot` (a figure-level function with similar flexibility) or `histplot` (an axes-level function for histograms).\n",
      "  warnings.warn(msg, FutureWarning)\n",
      "C:\\Users\\Administrator\\anaconda3\\lib\\site-packages\\seaborn\\distributions.py:2619: FutureWarning: `distplot` is a deprecated function and will be removed in a future version. Please adapt your code to use either `displot` (a figure-level function with similar flexibility) or `histplot` (an axes-level function for histograms).\n",
      "  warnings.warn(msg, FutureWarning)\n"
     ]
    },
    {
     "data": {
      "text/plain": [
       "<seaborn.axisgrid.FacetGrid at 0x194d1901d00>"
      ]
     },
     "execution_count": 25,
     "metadata": {},
     "output_type": "execute_result"
    },
    {
     "data": {
      "image/png": "[encoded data removed]",
      "text/plain": [
       "<Figure size 432x216 with 2 Axes>"
      ]
     },
     "metadata": {},
     "output_type": "display_data"
    }
   ],
   "source": [
    "#  Age Vs Survived\n",
    "ax = sns.FacetGrid(train, col='Survived', margin_titles=True)\n",
    "ax = ax.map(sns.distplot, 'Age')\n",
    "ax.set_ylabels('Survival Probability')\n",
    "# ax.set_titles(['Age Survived', 'Age Not Survived'])\n",
    "ax.despine(offset=3, trim=True)"
   ]
  },
  {
   "cell_type": "code",
   "execution_count": 26,
   "id": "dbf4ca43",
   "metadata": {
    "execution": {
     "iopub.execute_input": "2022-12-18T04:20:32.610760Z",
     "iopub.status.busy": "2022-12-18T04:20:32.610016Z",
     "iopub.status.idle": "2022-12-18T04:20:33.051273Z",
     "shell.execute_reply": "2022-12-18T04:20:33.050030Z"
    },
    "papermill": {
     "duration": 0.467708,
     "end_time": "2022-12-18T04:20:33.054117",
     "exception": false,
     "start_time": "2022-12-18T04:20:32.586409",
     "status": "completed"
    },
    "tags": []
   },
   "outputs": [
    {
     "data": {
      "text/plain": [
       "<matplotlib.legend.Legend at 0x194d1b091f0>"
      ]
     },
     "execution_count": 26,
     "metadata": {},
     "output_type": "execute_result"
    },
    {
     "data": {
      "image/png": "[encoded data removed]",
      "text/plain": [
       "<Figure size 432x288 with 1 Axes>"
      ]
     },
     "metadata": {},
     "output_type": "display_data"
    }
   ],
   "source": [
    "# Explore Age Distro\n",
    "ax = sns.kdeplot(num_df[num_df[\"Survived\"] == 0]['Age'], color='b', shade=True)\n",
    "ax = sns.kdeplot(num_df[num_df[\"Survived\"] == 1]['Age'], color='r', shade=True)\n",
    "ax.set_xlabel(\"Age\")\n",
    "ax.set_ylabel(\"Survival Probability\")\n",
    "ax.set_title('Age Distribution based on Survived/Not Survived\\n', fontsize=15)\n",
    "sns.despine(offset=3, trim=True)\n",
    "ax.legend(['Not Survived', 'Survived'])"
   ]
  },
  {
   "cell_type": "code",
   "execution_count": 27,
   "id": "8b0d2774",
   "metadata": {
    "execution": {
     "iopub.execute_input": "2022-12-18T04:20:33.102367Z",
     "iopub.status.busy": "2022-12-18T04:20:33.101959Z",
     "iopub.status.idle": "2022-12-18T04:20:33.534509Z",
     "shell.execute_reply": "2022-12-18T04:20:33.533429Z"
    },
    "papermill": {
     "duration": 0.459347,
     "end_time": "2022-12-18T04:20:33.537003",
     "exception": false,
     "start_time": "2022-12-18T04:20:33.077656",
     "status": "completed"
    },
    "tags": []
   },
   "outputs": [
    {
     "data": {
      "image/png": "[encoded data removed]",
      "text/plain": [
       "<Figure size 432x288 with 1 Axes>"
      ]
     },
     "metadata": {},
     "output_type": "display_data"
    }
   ],
   "source": [
    "# Explore Survived based on SibSp\n",
    "ax = sns.barplot(x='SibSp', y='Survived', data=train)\n",
    "ax.set_title('SibSp Vs Survived', fontsize=15)\n",
    "sns.despine(offset=5, trim=True)\n"
   ]
  },
  {
   "cell_type": "code",
   "execution_count": 28,
   "id": "0353a7f8",
   "metadata": {
    "execution": {
     "iopub.execute_input": "2022-12-18T04:20:33.583777Z",
     "iopub.status.busy": "2022-12-18T04:20:33.583378Z",
     "iopub.status.idle": "2022-12-18T04:20:33.989717Z",
     "shell.execute_reply": "2022-12-18T04:20:33.988200Z"
    },
    "papermill": {
     "duration": 0.432801,
     "end_time": "2022-12-18T04:20:33.992321",
     "exception": false,
     "start_time": "2022-12-18T04:20:33.559520",
     "status": "completed"
    },
    "tags": []
   },
   "outputs": [
    {
     "data": {
      "image/png": "[encoded data removed]",
      "text/plain": [
       "<Figure size 432x288 with 1 Axes>"
      ]
     },
     "metadata": {},
     "output_type": "display_data"
    }
   ],
   "source": [
    "# Explore Survived based on parch\n",
    "ax = sns.barplot(x='Parch', y='Survived', data=train)\n",
    "ax.set_title('Parch Vs Survived', fontsize=15)\n",
    "sns.despine(offset=5, trim=True)"
   ]
  },
  {
   "cell_type": "code",
   "execution_count": 29,
   "id": "de9a7c79",
   "metadata": {
    "execution": {
     "iopub.execute_input": "2022-12-18T04:20:34.040245Z",
     "iopub.status.busy": "2022-12-18T04:20:34.039814Z",
     "iopub.status.idle": "2022-12-18T04:20:34.635617Z",
     "shell.execute_reply": "2022-12-18T04:20:34.634400Z"
    },
    "papermill": {
     "duration": 0.622585,
     "end_time": "2022-12-18T04:20:34.637836",
     "exception": false,
     "start_time": "2022-12-18T04:20:34.015251",
     "status": "completed"
    },
    "tags": []
   },
   "outputs": [
    {
     "data": {
      "image/png": "[encoded data removed]",
      "text/plain": [
       "<Figure size 432x288 with 1 Axes>"
      ]
     },
     "metadata": {},
     "output_type": "display_data"
    }
   ],
   "source": [
    "ax = sns.histplot(num_df['Fare'], color='m', label=\"Skewness : %.2f\"%(num_df[\"Fare\"].skew()), kde=True)\n",
    "ax.set_ylabel('Number of Passeners')\n",
    "ax.set_title('Fare Distribution', fontsize=15)\n",
    "ax = ax.legend(loc=\"best\")\n",
    "sns.despine(offset=5, trim=True)\n",
    "\n"
   ]
  },
  {
   "cell_type": "code",
   "execution_count": 30,
   "id": "9c81ddfc",
   "metadata": {
    "execution": {
     "iopub.execute_input": "2022-12-18T04:20:34.686247Z",
     "iopub.status.busy": "2022-12-18T04:20:34.685835Z",
     "iopub.status.idle": "2022-12-18T04:20:34.693896Z",
     "shell.execute_reply": "2022-12-18T04:20:34.692746Z"
    },
    "papermill": {
     "duration": 0.035217,
     "end_time": "2022-12-18T04:20:34.696251",
     "exception": false,
     "start_time": "2022-12-18T04:20:34.661034",
     "status": "completed"
    },
    "tags": []
   },
   "outputs": [],
   "source": [
    "# Applying Log to reduce skewness\n",
    "data['Fare'] = data['Fare'].apply(lambda i:np.log(i) if i > 0 else 0)"
   ]
  },
  {
   "cell_type": "code",
   "execution_count": 31,
   "id": "c304e239",
   "metadata": {
    "execution": {
     "iopub.execute_input": "2022-12-18T04:20:34.745318Z",
     "iopub.status.busy": "2022-12-18T04:20:34.744722Z",
     "iopub.status.idle": "2022-12-18T04:20:35.118348Z",
     "shell.execute_reply": "2022-12-18T04:20:35.117137Z"
    },
    "papermill": {
     "duration": 0.400898,
     "end_time": "2022-12-18T04:20:35.120922",
     "exception": false,
     "start_time": "2022-12-18T04:20:34.720024",
     "status": "completed"
    },
    "tags": []
   },
   "outputs": [
    {
     "data": {
      "image/png": "[encoded data removed]",
      "text/plain": [
       "<Figure size 432x288 with 1 Axes>"
      ]
     },
     "metadata": {},
     "output_type": "display_data"
    }
   ],
   "source": [
    "ax = sns.histplot(data['Fare'], color='m', label=\"Skewness : %.2f\"%(data[\"Fare\"].skew()), kde=True)\n",
    "ax.set_ylabel('Number of Passeners')\n",
    "ax.set_title('Fare Distribution', fontsize=15)\n",
    "ax = ax.legend(loc=\"best\")\n",
    "sns.despine(offset=5, trim=True)"
   ]
  },
  {
   "cell_type": "markdown",
   "id": "71f10dac",
   "metadata": {
    "papermill": {
     "duration": 0.023349,
     "end_time": "2022-12-18T04:20:35.167757",
     "exception": false,
     "start_time": "2022-12-18T04:20:35.144408",
     "status": "completed"
    },
    "tags": []
   },
   "source": [
    "### Realizations\n",
    "* Seems like there are more chances of **survivial** those who are **younger**, also we can clearly see there a peak from (0-5) **children** in 2nd chart **indecating** more chances of **surviving**.\n",
    "* Passengers with **1 or 2 sibSp** have heigher chance of **surviving**\n",
    "* **Small families** have more chance to **survive**, more than **single (Parch 0)**, medium (Parch 3,4) and large families (Parch 5,6 ). be carefull with 3 Parch as it has **standard deviation** \n",
    "* Fare is largly **skewed** towords **right** we fix that with **np.log** and skewness clearly **reduced after log transformation**. "
   ]
  },
  {
   "cell_type": "code",
   "execution_count": 32,
   "id": "dfd83a2f",
   "metadata": {
    "execution": {
     "iopub.execute_input": "2022-12-18T04:20:35.217464Z",
     "iopub.status.busy": "2022-12-18T04:20:35.216992Z",
     "iopub.status.idle": "2022-12-18T04:20:35.484189Z",
     "shell.execute_reply": "2022-12-18T04:20:35.483056Z"
    },
    "papermill": {
     "duration": 0.295164,
     "end_time": "2022-12-18T04:20:35.486486",
     "exception": false,
     "start_time": "2022-12-18T04:20:35.191322",
     "status": "completed"
    },
    "tags": []
   },
   "outputs": [
    {
     "data": {
      "image/png": "[encoded data removed]",
      "text/plain": [
       "<Figure size 432x288 with 1 Axes>"
      ]
     },
     "metadata": {},
     "output_type": "display_data"
    }
   ],
   "source": [
    "#Explore categorical Data\n",
    "\n",
    "#Explore Survived based on Sex\n",
    "ax = sns.barplot(x='Sex', y='Survived',data=data)\n",
    "ax.set_title('Sex Vs Survived', fontsize=15)\n",
    "ax.set_ylabel('Survival Probability')\n",
    "ax.set_xticklabels(['male', 'female'])\n",
    "sns.despine(offset=5, trim=True)"
   ]
  },
  {
   "cell_type": "code",
   "execution_count": 33,
   "id": "62953e4e",
   "metadata": {
    "execution": {
     "iopub.execute_input": "2022-12-18T04:20:35.536469Z",
     "iopub.status.busy": "2022-12-18T04:20:35.536058Z",
     "iopub.status.idle": "2022-12-18T04:20:35.836234Z",
     "shell.execute_reply": "2022-12-18T04:20:35.835175Z"
    },
    "papermill": {
     "duration": 0.328126,
     "end_time": "2022-12-18T04:20:35.838491",
     "exception": false,
     "start_time": "2022-12-18T04:20:35.510365",
     "status": "completed"
    },
    "tags": []
   },
   "outputs": [
    {
     "data": {
      "image/png": "[encoded data removed]",
      "text/plain": [
       "<Figure size 432x288 with 1 Axes>"
      ]
     },
     "metadata": {},
     "output_type": "display_data"
    }
   ],
   "source": [
    "# Explore Survived with Pclass\n",
    "ax = sns.barplot(x='Pclass', y='Survived', data=train)\n",
    "ax.set_title('Pclass Vs Survived', fontsize=15)\n",
    "ax.set_ylabel('Survival Probability')\n",
    "ax.set_xticklabels(['Upper', 'Middle', 'Lower'])\n",
    "sns.despine(offset=5, trim=True)"
   ]
  },
  {
   "cell_type": "code",
   "execution_count": 34,
   "id": "520c8ede",
   "metadata": {
    "execution": {
     "iopub.execute_input": "2022-12-18T04:20:35.889452Z",
     "iopub.status.busy": "2022-12-18T04:20:35.888495Z",
     "iopub.status.idle": "2022-12-18T04:20:36.185050Z",
     "shell.execute_reply": "2022-12-18T04:20:36.183868Z"
    },
    "papermill": {
     "duration": 0.324574,
     "end_time": "2022-12-18T04:20:36.187615",
     "exception": false,
     "start_time": "2022-12-18T04:20:35.863041",
     "status": "completed"
    },
    "tags": []
   },
   "outputs": [
    {
     "data": {
      "image/png": "[encoded data removed]",
      "text/plain": [
       "<Figure size 432x288 with 1 Axes>"
      ]
     },
     "metadata": {},
     "output_type": "display_data"
    }
   ],
   "source": [
    "# Explore Survived with Embarked\n",
    "ax = sns.barplot(x='Embarked', y='Survived', data=train)\n",
    "ax.set_title('Embarked Vs Survived', fontsize=15)\n",
    "ax.set_ylabel('Survival Probability')\n",
    "sns.despine(offset=5, trim=True)"
   ]
  },
  {
   "cell_type": "code",
   "execution_count": 35,
   "id": "f68c188d",
   "metadata": {
    "execution": {
     "iopub.execute_input": "2022-12-18T04:20:36.238809Z",
     "iopub.status.busy": "2022-12-18T04:20:36.238370Z",
     "iopub.status.idle": "2022-12-18T04:20:36.652086Z",
     "shell.execute_reply": "2022-12-18T04:20:36.650948Z"
    },
    "papermill": {
     "duration": 0.442126,
     "end_time": "2022-12-18T04:20:36.654412",
     "exception": false,
     "start_time": "2022-12-18T04:20:36.212286",
     "status": "completed"
    },
    "tags": []
   },
   "outputs": [
    {
     "data": {
      "image/png": "[encoded data removed]",
      "text/plain": [
       "<Figure size 432x288 with 1 Axes>"
      ]
     },
     "metadata": {},
     "output_type": "display_data"
    }
   ],
   "source": [
    "# Explore Survived with Pclass and Sex\n",
    "ax = sns.barplot(x='Pclass', y='Survived', hue='Sex', data=train)\n",
    "ax.set_title('Pclass Vs Survived with Sex', fontsize=15)\n",
    "ax.set_ylabel('Survival Probability')\n",
    "ax.set_xticklabels(['Upper', 'Middle', 'Lower'])\n",
    "sns.despine(offset=5, trim=True)"
   ]
  },
  {
   "cell_type": "code",
   "execution_count": 36,
   "id": "8bf8d38c",
   "metadata": {
    "execution": {
     "iopub.execute_input": "2022-12-18T04:20:36.706111Z",
     "iopub.status.busy": "2022-12-18T04:20:36.705447Z",
     "iopub.status.idle": "2022-12-18T04:20:37.417416Z",
     "shell.execute_reply": "2022-12-18T04:20:37.416205Z"
    },
    "papermill": {
     "duration": 0.740866,
     "end_time": "2022-12-18T04:20:37.419995",
     "exception": false,
     "start_time": "2022-12-18T04:20:36.679129",
     "status": "completed"
    },
    "tags": []
   },
   "outputs": [
    {
     "data": {
      "image/png": "[encoded data removed]",
      "text/plain": [
       "<Figure size 1296x432 with 3 Axes>"
      ]
     },
     "metadata": {},
     "output_type": "display_data"
    }
   ],
   "source": [
    "# Explore Survived with Pclass and Embarked\n",
    "ax = sns.catplot(data=data, x='Pclass', col='Embarked', kind='count', height=6)\n",
    "ax.despine(offset=3, trim=True)\n",
    "ax = ax.set_ylabels('Count')"
   ]
  },
  {
   "cell_type": "markdown",
   "id": "d215032c",
   "metadata": {
    "papermill": {
     "duration": 0.026476,
     "end_time": "2022-12-18T04:20:37.471802",
     "exception": false,
     "start_time": "2022-12-18T04:20:37.445326",
     "status": "completed"
    },
    "tags": []
   },
   "source": [
    "### Realizations\n",
    "* **Female passengers** have higher chance of **surviving**, So **Sex**, might play an **important role** in the prediction of the survival.\n",
    "* **Upper Class** passengers have higher chance of **surviving**\n",
    "* **Upper Class Female** passengers have higher chance of **surviving**\n",
    "* Passengers coming from **Cherbourg** (C) have higher chance of **surviving**, because most **Upper class** passengers are coming from **Cherbourg** (C), where as **lower** and **Middle** class are from **Southampton** (S) and **Queenstown** (Q) respectivley."
   ]
  },
  {
   "cell_type": "markdown",
   "id": "d03c17a3",
   "metadata": {
    "papermill": {
     "duration": 0.026318,
     "end_time": "2022-12-18T04:20:37.524656",
     "exception": false,
     "start_time": "2022-12-18T04:20:37.498338",
     "status": "completed"
    },
    "tags": []
   },
   "source": [
    "* ### **Future Engeneering**"
   ]
  },
  {
   "cell_type": "code",
   "execution_count": 37,
   "id": "a6a9cd01",
   "metadata": {
    "execution": {
     "iopub.execute_input": "2022-12-18T04:20:37.579987Z",
     "iopub.status.busy": "2022-12-18T04:20:37.578723Z",
     "iopub.status.idle": "2022-12-18T04:20:37.596571Z",
     "shell.execute_reply": "2022-12-18T04:20:37.595412Z"
    },
    "papermill": {
     "duration": 0.047829,
     "end_time": "2022-12-18T04:20:37.598893",
     "exception": false,
     "start_time": "2022-12-18T04:20:37.551064",
     "status": "completed"
    },
    "tags": []
   },
   "outputs": [
    {
     "data": {
      "text/html": [
       "<div>\n",
       "<style scoped>\n",
       "    .dataframe tbody tr th:only-of-type {\n",
       "        vertical-align: middle;\n",
       "    }\n",
       "\n",
       "    .dataframe tbody tr th {\n",
       "        vertical-align: top;\n",
       "    }\n",
       "\n",
       "    .dataframe thead th {\n",
       "        text-align: right;\n",
       "    }\n",
       "</style>\n",
       "<table border=\"1\" class=\"dataframe\">\n",
       "  <thead>\n",
       "    <tr style=\"text-align: right;\">\n",
       "      <th></th>\n",
       "      <th>PassengerId</th>\n",
       "      <th>Survived</th>\n",
       "      <th>Pclass</th>\n",
       "      <th>Name</th>\n",
       "      <th>Sex</th>\n",
       "      <th>Age</th>\n",
       "      <th>SibSp</th>\n",
       "      <th>Parch</th>\n",
       "      <th>Ticket</th>\n",
       "      <th>Fare</th>\n",
       "      <th>Embarked</th>\n",
       "      <th>source</th>\n",
       "    </tr>\n",
       "  </thead>\n",
       "  <tbody>\n",
       "    <tr>\n",
       "      <th>0</th>\n",
       "      <td>1</td>\n",
       "      <td>0.0</td>\n",
       "      <td>3</td>\n",
       "      <td>Braund, Mr. Owen Harris</td>\n",
       "      <td>0</td>\n",
       "      <td>22.0</td>\n",
       "      <td>1</td>\n",
       "      <td>0</td>\n",
       "      <td>A/5 21171</td>\n",
       "      <td>1.981001</td>\n",
       "      <td>S</td>\n",
       "      <td>train</td>\n",
       "    </tr>\n",
       "    <tr>\n",
       "      <th>1</th>\n",
       "      <td>2</td>\n",
       "      <td>1.0</td>\n",
       "      <td>1</td>\n",
       "      <td>Cumings, Mrs. John Bradley (Florence Briggs Th...</td>\n",
       "      <td>1</td>\n",
       "      <td>38.0</td>\n",
       "      <td>1</td>\n",
       "      <td>0</td>\n",
       "      <td>PC 17599</td>\n",
       "      <td>4.266662</td>\n",
       "      <td>C</td>\n",
       "      <td>train</td>\n",
       "    </tr>\n",
       "    <tr>\n",
       "      <th>2</th>\n",
       "      <td>3</td>\n",
       "      <td>1.0</td>\n",
       "      <td>3</td>\n",
       "      <td>Heikkinen, Miss. Laina</td>\n",
       "      <td>1</td>\n",
       "      <td>26.0</td>\n",
       "      <td>0</td>\n",
       "      <td>0</td>\n",
       "      <td>STON/O2. 3101282</td>\n",
       "      <td>2.070022</td>\n",
       "      <td>S</td>\n",
       "      <td>train</td>\n",
       "    </tr>\n",
       "    <tr>\n",
       "      <th>3</th>\n",
       "      <td>4</td>\n",
       "      <td>1.0</td>\n",
       "      <td>1</td>\n",
       "      <td>Futrelle, Mrs. Jacques Heath (Lily May Peel)</td>\n",
       "      <td>1</td>\n",
       "      <td>35.0</td>\n",
       "      <td>1</td>\n",
       "      <td>0</td>\n",
       "      <td>113803</td>\n",
       "      <td>3.972177</td>\n",
       "      <td>S</td>\n",
       "      <td>train</td>\n",
       "    </tr>\n",
       "    <tr>\n",
       "      <th>4</th>\n",
       "      <td>5</td>\n",
       "      <td>0.0</td>\n",
       "      <td>3</td>\n",
       "      <td>Allen, Mr. William Henry</td>\n",
       "      <td>0</td>\n",
       "      <td>35.0</td>\n",
       "      <td>0</td>\n",
       "      <td>0</td>\n",
       "      <td>373450</td>\n",
       "      <td>2.085672</td>\n",
       "      <td>S</td>\n",
       "      <td>train</td>\n",
       "    </tr>\n",
       "  </tbody>\n",
       "</table>\n",
       "</div>"
      ],
      "text/plain": [
       "   PassengerId  Survived  Pclass  \\\n",
       "0            1       0.0       3   \n",
       "1            2       1.0       1   \n",
       "2            3       1.0       3   \n",
       "3            4       1.0       1   \n",
       "4            5       0.0       3   \n",
       "\n",
       "                                                Name  Sex   Age  SibSp  Parch  \\\n",
       "0                            Braund, Mr. Owen Harris    0  22.0      1      0   \n",
       "1  Cumings, Mrs. John Bradley (Florence Briggs Th...    1  38.0      1      0   \n",
       "2                             Heikkinen, Miss. Laina    1  26.0      0      0   \n",
       "3       Futrelle, Mrs. Jacques Heath (Lily May Peel)    1  35.0      1      0   \n",
       "4                           Allen, Mr. William Henry    0  35.0      0      0   \n",
       "\n",
       "             Ticket      Fare Embarked source  \n",
       "0         A/5 21171  1.981001        S  train  \n",
       "1          PC 17599  4.266662        C  train  \n",
       "2  STON/O2. 3101282  2.070022        S  train  \n",
       "3            113803  3.972177        S  train  \n",
       "4            373450  2.085672        S  train  "
      ]
     },
     "execution_count": 37,
     "metadata": {},
     "output_type": "execute_result"
    }
   ],
   "source": [
    "data.head()"
   ]
  },
  {
   "cell_type": "code",
   "execution_count": 38,
   "id": "1ad25eae",
   "metadata": {
    "execution": {
     "iopub.execute_input": "2022-12-18T04:20:37.653826Z",
     "iopub.status.busy": "2022-12-18T04:20:37.653446Z",
     "iopub.status.idle": "2022-12-18T04:20:37.660923Z",
     "shell.execute_reply": "2022-12-18T04:20:37.660039Z"
    },
    "papermill": {
     "duration": 0.037457,
     "end_time": "2022-12-18T04:20:37.662826",
     "exception": false,
     "start_time": "2022-12-18T04:20:37.625369",
     "status": "completed"
    },
    "tags": []
   },
   "outputs": [
    {
     "data": {
      "text/plain": [
       "0                              Braund, Mr. Owen Harris\n",
       "1    Cumings, Mrs. John Bradley (Florence Briggs Th...\n",
       "2                               Heikkinen, Miss. Laina\n",
       "3         Futrelle, Mrs. Jacques Heath (Lily May Peel)\n",
       "4                             Allen, Mr. William Henry\n",
       "Name: Name, dtype: object"
      ]
     },
     "execution_count": 38,
     "metadata": {},
     "output_type": "execute_result"
    }
   ],
   "source": [
    "data['Name'].head()"
   ]
  },
  {
   "cell_type": "markdown",
   "id": "9fbb92a9",
   "metadata": {
    "papermill": {
     "duration": 0.026929,
     "end_time": "2022-12-18T04:20:37.716317",
     "exception": false,
     "start_time": "2022-12-18T04:20:37.689388",
     "status": "completed"
    },
    "tags": []
   },
   "source": [
    "### Name Title\n",
    "* We have different **titles** with names (**Mr/Miss/Lady**) etc.\n",
    "* Since some passenger with **distingused title** may be preferred during the **evacuation**, it is interesting to add them to the model."
   ]
  },
  {
   "cell_type": "code",
   "execution_count": 39,
   "id": "0dad919b",
   "metadata": {
    "execution": {
     "iopub.execute_input": "2022-12-18T04:20:37.773352Z",
     "iopub.status.busy": "2022-12-18T04:20:37.771963Z",
     "iopub.status.idle": "2022-12-18T04:20:37.782310Z",
     "shell.execute_reply": "2022-12-18T04:20:37.781180Z"
    },
    "papermill": {
     "duration": 0.040374,
     "end_time": "2022-12-18T04:20:37.784483",
     "exception": false,
     "start_time": "2022-12-18T04:20:37.744109",
     "status": "completed"
    },
    "tags": []
   },
   "outputs": [
    {
     "data": {
      "text/plain": [
       "array(['Mr', 'Mrs', 'Miss', 'Master', 'Don', 'Rev', 'Dr', 'Mme', 'Ms',\n",
       "       'Major', 'Lady', 'Sir', 'Mlle', 'Col', 'the Countess', 'Jonkheer',\n",
       "       'Dona'], dtype=object)"
      ]
     },
     "execution_count": 39,
     "metadata": {},
     "output_type": "execute_result"
    }
   ],
   "source": [
    "## Finding Titles\n",
    "data['Title'] = data['Name'].apply(lambda i:i.rsplit(',')[1].split('.')[0].strip())\n",
    "data['Title'].unique()"
   ]
  },
  {
   "cell_type": "code",
   "execution_count": 40,
   "id": "ce79997a",
   "metadata": {
    "execution": {
     "iopub.execute_input": "2022-12-18T04:20:37.840534Z",
     "iopub.status.busy": "2022-12-18T04:20:37.839446Z",
     "iopub.status.idle": "2022-12-18T04:20:38.212948Z",
     "shell.execute_reply": "2022-12-18T04:20:38.211829Z"
    },
    "papermill": {
     "duration": 0.404018,
     "end_time": "2022-12-18T04:20:38.215420",
     "exception": false,
     "start_time": "2022-12-18T04:20:37.811402",
     "status": "completed"
    },
    "tags": []
   },
   "outputs": [
    {
     "data": {
      "image/png": "[encoded data removed]",
      "text/plain": [
       "<Figure size 432x288 with 1 Axes>"
      ]
     },
     "metadata": {},
     "output_type": "display_data"
    }
   ],
   "source": [
    "# Lets see Titles\n",
    "ax = sns.countplot(data=data, x='Title')\n",
    "ax.set_title('Titles', fontsize=15)\n",
    "ax.set_ylabel('Number of Passengers')\n",
    "sns.despine(offset=3, trim=True)\n",
    "ax = plt.setp(ax.get_xticklabels(), rotation=40)\n"
   ]
  },
  {
   "cell_type": "code",
   "execution_count": 41,
   "id": "b654b0cb",
   "metadata": {
    "execution": {
     "iopub.execute_input": "2022-12-18T04:20:38.271321Z",
     "iopub.status.busy": "2022-12-18T04:20:38.270933Z",
     "iopub.status.idle": "2022-12-18T04:20:38.855258Z",
     "shell.execute_reply": "2022-12-18T04:20:38.854371Z"
    },
    "papermill": {
     "duration": 0.614726,
     "end_time": "2022-12-18T04:20:38.857494",
     "exception": false,
     "start_time": "2022-12-18T04:20:38.242768",
     "status": "completed"
    },
    "tags": []
   },
   "outputs": [
    {
     "data": {
      "image/png": "[encoded data removed]",
      "text/plain": [
       "<Figure size 432x288 with 1 Axes>"
      ]
     },
     "metadata": {},
     "output_type": "display_data"
    }
   ],
   "source": [
    "ax = sns.barplot(data=data[data['source'] == 'train'], x='Title', y='Survived')\n",
    "ax.set_title('Title Vs Survived', fontsize=15)\n",
    "ax.set_ylabel('Survival Probability')\n",
    "sns.despine(offset=3, trim=True)"
   ]
  },
  {
   "cell_type": "markdown",
   "id": "3cd4fec8",
   "metadata": {
    "papermill": {
     "duration": 0.026542,
     "end_time": "2022-12-18T04:20:38.911240",
     "exception": false,
     "start_time": "2022-12-18T04:20:38.884698",
     "status": "completed"
    },
    "tags": []
   },
   "source": [
    "### Realizations\n",
    "* total **17 titles**, but they can be **reduced**, lets convert them into **title categories**.\n",
    "* It looks like the **rare titles** have more chances of **surviving**."
   ]
  },
  {
   "cell_type": "code",
   "execution_count": 42,
   "id": "4ccf7f20",
   "metadata": {
    "execution": {
     "iopub.execute_input": "2022-12-18T04:20:38.968148Z",
     "iopub.status.busy": "2022-12-18T04:20:38.967429Z",
     "iopub.status.idle": "2022-12-18T04:20:38.977314Z",
     "shell.execute_reply": "2022-12-18T04:20:38.976049Z"
    },
    "papermill": {
     "duration": 0.040778,
     "end_time": "2022-12-18T04:20:38.979745",
     "exception": false,
     "start_time": "2022-12-18T04:20:38.938967",
     "status": "completed"
    },
    "tags": []
   },
   "outputs": [],
   "source": [
    "# Convert Title into categries\n",
    "data['Title'] = data['Title'].replace(['Don', 'Rev', 'Dr', 'Mme', 'Ms',\n",
    "       'Major', 'Lady', 'Sir', 'Mlle', 'Col', 'the Countess', 'Jonkheer',\n",
    "       'Dona'], 'others')\n",
    "data['Title'] = data['Title'].map({'Mr':0, 'Mrs':1, 'Miss':1, 'Master':2, 'others':3})"
   ]
  },
  {
   "cell_type": "code",
   "execution_count": 43,
   "id": "120df3fa",
   "metadata": {
    "execution": {
     "iopub.execute_input": "2022-12-18T04:20:39.035292Z",
     "iopub.status.busy": "2022-12-18T04:20:39.034844Z",
     "iopub.status.idle": "2022-12-18T04:20:39.264076Z",
     "shell.execute_reply": "2022-12-18T04:20:39.262917Z"
    },
    "papermill": {
     "duration": 0.259711,
     "end_time": "2022-12-18T04:20:39.266398",
     "exception": false,
     "start_time": "2022-12-18T04:20:39.006687",
     "status": "completed"
    },
    "tags": []
   },
   "outputs": [
    {
     "data": {
      "image/png": "[encoded data removed]",
      "text/plain": [
       "<Figure size 432x288 with 1 Axes>"
      ]
     },
     "metadata": {},
     "output_type": "display_data"
    }
   ],
   "source": [
    "ax = sns.countplot(data=data, x='Title')\n",
    "ax.set_ylabel('Number of Passengers')\n",
    "ax.set_title('Title Vs Survived', fontsize=15)\n",
    "ax = ax.set_xticklabels(['Mr', 'Mrs-Miss', 'Master', 'others'])\n",
    "sns.despine(offset=3, trim=True)\n"
   ]
  },
  {
   "cell_type": "code",
   "execution_count": 44,
   "id": "3c4a83a6",
   "metadata": {
    "execution": {
     "iopub.execute_input": "2022-12-18T04:20:39.323504Z",
     "iopub.status.busy": "2022-12-18T04:20:39.322382Z",
     "iopub.status.idle": "2022-12-18T04:20:39.686841Z",
     "shell.execute_reply": "2022-12-18T04:20:39.685654Z"
    },
    "papermill": {
     "duration": 0.395527,
     "end_time": "2022-12-18T04:20:39.689368",
     "exception": false,
     "start_time": "2022-12-18T04:20:39.293841",
     "status": "completed"
    },
    "tags": []
   },
   "outputs": [
    {
     "data": {
      "image/png": "[encoded data removed]",
      "text/plain": [
       "<Figure size 432x288 with 1 Axes>"
      ]
     },
     "metadata": {},
     "output_type": "display_data"
    }
   ],
   "source": [
    "# Drop Name columns we don't need that now\n",
    "ax = sns.barplot(data=data[data['source'] == 'train'], x='Title', y='Survived')\n",
    "ax.set_title('Title Vs Survived', fontsize=15)\n",
    "ax.set_ylabel('Survival Probability')\n",
    "ax = ax.set_xticklabels(['Mr', 'Mrs-Miss', 'Master', 'others'])\n",
    "sns.despine(offset=3, trim=True)\n"
   ]
  },
  {
   "cell_type": "markdown",
   "id": "4be0d152",
   "metadata": {
    "papermill": {
     "duration": 0.027408,
     "end_time": "2022-12-18T04:20:39.744074",
     "exception": false,
     "start_time": "2022-12-18T04:20:39.716666",
     "status": "completed"
    },
    "tags": []
   },
   "source": [
    "### Realizations\n",
    "* Women and Children First"
   ]
  },
  {
   "cell_type": "code",
   "execution_count": 45,
   "id": "77f41231",
   "metadata": {
    "execution": {
     "iopub.execute_input": "2022-12-18T04:20:39.799892Z",
     "iopub.status.busy": "2022-12-18T04:20:39.799451Z",
     "iopub.status.idle": "2022-12-18T04:20:39.806939Z",
     "shell.execute_reply": "2022-12-18T04:20:39.805813Z"
    },
    "papermill": {
     "duration": 0.038189,
     "end_time": "2022-12-18T04:20:39.809266",
     "exception": false,
     "start_time": "2022-12-18T04:20:39.771077",
     "status": "completed"
    },
    "tags": []
   },
   "outputs": [],
   "source": [
    "# Lets create new Feature called family size. +1 for passenger himself\n",
    "data['Fsize'] = data['SibSp'] + data['Parch'] + 1 "
   ]
  },
  {
   "cell_type": "code",
   "execution_count": 46,
   "id": "55e7ca16",
   "metadata": {
    "execution": {
     "iopub.execute_input": "2022-12-18T04:20:39.865048Z",
     "iopub.status.busy": "2022-12-18T04:20:39.864602Z",
     "iopub.status.idle": "2022-12-18T04:20:40.350161Z",
     "shell.execute_reply": "2022-12-18T04:20:40.349016Z"
    },
    "papermill": {
     "duration": 0.516267,
     "end_time": "2022-12-18T04:20:40.352634",
     "exception": false,
     "start_time": "2022-12-18T04:20:39.836367",
     "status": "completed"
    },
    "tags": []
   },
   "outputs": [
    {
     "data": {
      "image/png": "[encoded data removed]",
      "text/plain": [
       "<Figure size 432x288 with 1 Axes>"
      ]
     },
     "metadata": {},
     "output_type": "display_data"
    }
   ],
   "source": [
    "ax = sns.pointplot(x='Fsize', y='Survived', data=data[data['source'] == 'train'])\n",
    "ax.set_title('Fsize Vs Survived', fontsize=15)\n",
    "ax.set_ylabel(\"Survival Probability\")\n",
    "sns.despine(offset=3, trim=True)"
   ]
  },
  {
   "cell_type": "markdown",
   "id": "5b7c6a41",
   "metadata": {
    "papermill": {
     "duration": 0.027128,
     "end_time": "2022-12-18T04:20:40.407322",
     "exception": false,
     "start_time": "2022-12-18T04:20:40.380194",
     "status": "completed"
    },
    "tags": []
   },
   "source": [
    "### Realizations\n",
    "* Family size seems to be **important**, larger family size has **worst chance of surviving**."
   ]
  },
  {
   "cell_type": "code",
   "execution_count": 47,
   "id": "08526c84",
   "metadata": {
    "execution": {
     "iopub.execute_input": "2022-12-18T04:20:40.465448Z",
     "iopub.status.busy": "2022-12-18T04:20:40.464457Z",
     "iopub.status.idle": "2022-12-18T04:20:40.473457Z",
     "shell.execute_reply": "2022-12-18T04:20:40.472316Z"
    },
    "papermill": {
     "duration": 0.040648,
     "end_time": "2022-12-18T04:20:40.475967",
     "exception": false,
     "start_time": "2022-12-18T04:20:40.435319",
     "status": "completed"
    },
    "tags": []
   },
   "outputs": [],
   "source": [
    "#Lets Create Family Category\n",
    "def f_size(i):\n",
    "    if i ==1:\n",
    "        return 'Single'\n",
    "    if i ==2:\n",
    "        return 'SmallF'\n",
    "    if i==3 or i == 4:\n",
    "        return 'MedF'\n",
    "    if i>4:\n",
    "        return 'LargeF'\n",
    "    else:\n",
    "        return 'nan'\n",
    "data['Fsize'] = data['Fsize'].apply(lambda i:f_size(i))"
   ]
  },
  {
   "cell_type": "code",
   "execution_count": 48,
   "id": "642d1e3a",
   "metadata": {
    "execution": {
     "iopub.execute_input": "2022-12-18T04:20:40.533559Z",
     "iopub.status.busy": "2022-12-18T04:20:40.533199Z",
     "iopub.status.idle": "2022-12-18T04:20:40.881533Z",
     "shell.execute_reply": "2022-12-18T04:20:40.880414Z"
    },
    "papermill": {
     "duration": 0.379801,
     "end_time": "2022-12-18T04:20:40.883889",
     "exception": false,
     "start_time": "2022-12-18T04:20:40.504088",
     "status": "completed"
    },
    "tags": []
   },
   "outputs": [
    {
     "data": {
      "image/png": "[encoded data removed]",
      "text/plain": [
       "<Figure size 432x288 with 1 Axes>"
      ]
     },
     "metadata": {},
     "output_type": "display_data"
    }
   ],
   "source": [
    "ax = sns.barplot(x='Fsize',y=\"Survived\",data=data[data['source'] == 'train'])\n",
    "ax.set_title('Fsize Vs Survived', fontsize=15)\n",
    "ax.set_ylabel(\"Survival Probability\")\n",
    "sns.despine(offset=3, trim=True)\n"
   ]
  },
  {
   "cell_type": "markdown",
   "id": "941abae1",
   "metadata": {
    "papermill": {
     "duration": 0.027436,
     "end_time": "2022-12-18T04:20:40.939267",
     "exception": false,
     "start_time": "2022-12-18T04:20:40.911831",
     "status": "completed"
    },
    "tags": []
   },
   "source": [
    "### Realizations\n",
    "* It looks like **Med and Small Families** have more chances of **surviving**."
   ]
  },
  {
   "cell_type": "code",
   "execution_count": 49,
   "id": "588598f6",
   "metadata": {
    "execution": {
     "iopub.execute_input": "2022-12-18T04:20:40.997397Z",
     "iopub.status.busy": "2022-12-18T04:20:40.996702Z",
     "iopub.status.idle": "2022-12-18T04:20:41.006978Z",
     "shell.execute_reply": "2022-12-18T04:20:41.005750Z"
    },
    "papermill": {
     "duration": 0.042243,
     "end_time": "2022-12-18T04:20:41.009426",
     "exception": false,
     "start_time": "2022-12-18T04:20:40.967183",
     "status": "completed"
    },
    "tags": []
   },
   "outputs": [],
   "source": [
    "# Lets Deal with Ticket\n",
    "data['Ticket'] = data.Ticket.apply(lambda i:i.replace('/', '',).replace('.', '').strip().split(' ')[0])\n",
    "data['Ticket'] = data.Ticket.apply(lambda i:'X' if i.isdigit() else i)"
   ]
  },
  {
   "cell_type": "markdown",
   "id": "fd2819ce",
   "metadata": {
    "papermill": {
     "duration": 0.027702,
     "end_time": "2022-12-18T04:20:41.065220",
     "exception": false,
     "start_time": "2022-12-18T04:20:41.037518",
     "status": "completed"
    },
    "tags": []
   },
   "source": [
    "* ### **Variable transformation**"
   ]
  },
  {
   "cell_type": "code",
   "execution_count": 50,
   "id": "81f3efb1",
   "metadata": {
    "execution": {
     "iopub.execute_input": "2022-12-18T04:20:41.122916Z",
     "iopub.status.busy": "2022-12-18T04:20:41.122436Z",
     "iopub.status.idle": "2022-12-18T04:20:41.136843Z",
     "shell.execute_reply": "2022-12-18T04:20:41.135612Z"
    },
    "papermill": {
     "duration": 0.045972,
     "end_time": "2022-12-18T04:20:41.139333",
     "exception": false,
     "start_time": "2022-12-18T04:20:41.093361",
     "status": "completed"
    },
    "tags": []
   },
   "outputs": [],
   "source": [
    "# Label Encoding \n",
    "data=pd.get_dummies(data=data, columns=['Pclass', 'Sex','Ticket', 'Embarked','Title', 'Fsize'],\n",
    "                     prefix=['Pc', 'Sex','Tkt', 'Em','T', 'Fm'])"
   ]
  },
  {
   "cell_type": "code",
   "execution_count": 51,
   "id": "a72b73d5",
   "metadata": {
    "execution": {
     "iopub.execute_input": "2022-12-18T04:20:41.196828Z",
     "iopub.status.busy": "2022-12-18T04:20:41.196399Z",
     "iopub.status.idle": "2022-12-18T04:20:41.223535Z",
     "shell.execute_reply": "2022-12-18T04:20:41.222342Z"
    },
    "papermill": {
     "duration": 0.059065,
     "end_time": "2022-12-18T04:20:41.226306",
     "exception": false,
     "start_time": "2022-12-18T04:20:41.167241",
     "status": "completed"
    },
    "tags": []
   },
   "outputs": [
    {
     "data": {
      "text/html": [
       "<div>\n",
       "<style scoped>\n",
       "    .dataframe tbody tr th:only-of-type {\n",
       "        vertical-align: middle;\n",
       "    }\n",
       "\n",
       "    .dataframe tbody tr th {\n",
       "        vertical-align: top;\n",
       "    }\n",
       "\n",
       "    .dataframe thead th {\n",
       "        text-align: right;\n",
       "    }\n",
       "</style>\n",
       "<table border=\"1\" class=\"dataframe\">\n",
       "  <thead>\n",
       "    <tr style=\"text-align: right;\">\n",
       "      <th></th>\n",
       "      <th>Survived</th>\n",
       "      <th>Age</th>\n",
       "      <th>Fare</th>\n",
       "      <th>Pc_1</th>\n",
       "      <th>Pc_2</th>\n",
       "      <th>Pc_3</th>\n",
       "      <th>Sex_0</th>\n",
       "      <th>Sex_1</th>\n",
       "      <th>Tkt_A</th>\n",
       "      <th>Tkt_A4</th>\n",
       "      <th>...</th>\n",
       "      <th>Em_Q</th>\n",
       "      <th>Em_S</th>\n",
       "      <th>T_0</th>\n",
       "      <th>T_1</th>\n",
       "      <th>T_2</th>\n",
       "      <th>T_3</th>\n",
       "      <th>Fm_LargeF</th>\n",
       "      <th>Fm_MedF</th>\n",
       "      <th>Fm_Single</th>\n",
       "      <th>Fm_SmallF</th>\n",
       "    </tr>\n",
       "  </thead>\n",
       "  <tbody>\n",
       "    <tr>\n",
       "      <th>0</th>\n",
       "      <td>0.0</td>\n",
       "      <td>22.0</td>\n",
       "      <td>1.981001</td>\n",
       "      <td>0</td>\n",
       "      <td>0</td>\n",
       "      <td>1</td>\n",
       "      <td>1</td>\n",
       "      <td>0</td>\n",
       "      <td>0</td>\n",
       "      <td>0</td>\n",
       "      <td>...</td>\n",
       "      <td>0</td>\n",
       "      <td>1</td>\n",
       "      <td>1</td>\n",
       "      <td>0</td>\n",
       "      <td>0</td>\n",
       "      <td>0</td>\n",
       "      <td>0</td>\n",
       "      <td>0</td>\n",
       "      <td>0</td>\n",
       "      <td>1</td>\n",
       "    </tr>\n",
       "    <tr>\n",
       "      <th>1</th>\n",
       "      <td>1.0</td>\n",
       "      <td>38.0</td>\n",
       "      <td>4.266662</td>\n",
       "      <td>1</td>\n",
       "      <td>0</td>\n",
       "      <td>0</td>\n",
       "      <td>0</td>\n",
       "      <td>1</td>\n",
       "      <td>0</td>\n",
       "      <td>0</td>\n",
       "      <td>...</td>\n",
       "      <td>0</td>\n",
       "      <td>0</td>\n",
       "      <td>0</td>\n",
       "      <td>1</td>\n",
       "      <td>0</td>\n",
       "      <td>0</td>\n",
       "      <td>0</td>\n",
       "      <td>0</td>\n",
       "      <td>0</td>\n",
       "      <td>1</td>\n",
       "    </tr>\n",
       "    <tr>\n",
       "      <th>2</th>\n",
       "      <td>1.0</td>\n",
       "      <td>26.0</td>\n",
       "      <td>2.070022</td>\n",
       "      <td>0</td>\n",
       "      <td>0</td>\n",
       "      <td>1</td>\n",
       "      <td>0</td>\n",
       "      <td>1</td>\n",
       "      <td>0</td>\n",
       "      <td>0</td>\n",
       "      <td>...</td>\n",
       "      <td>0</td>\n",
       "      <td>1</td>\n",
       "      <td>0</td>\n",
       "      <td>1</td>\n",
       "      <td>0</td>\n",
       "      <td>0</td>\n",
       "      <td>0</td>\n",
       "      <td>0</td>\n",
       "      <td>1</td>\n",
       "      <td>0</td>\n",
       "    </tr>\n",
       "    <tr>\n",
       "      <th>3</th>\n",
       "      <td>1.0</td>\n",
       "      <td>35.0</td>\n",
       "      <td>3.972177</td>\n",
       "      <td>1</td>\n",
       "      <td>0</td>\n",
       "      <td>0</td>\n",
       "      <td>0</td>\n",
       "      <td>1</td>\n",
       "      <td>0</td>\n",
       "      <td>0</td>\n",
       "      <td>...</td>\n",
       "      <td>0</td>\n",
       "      <td>1</td>\n",
       "      <td>0</td>\n",
       "      <td>1</td>\n",
       "      <td>0</td>\n",
       "      <td>0</td>\n",
       "      <td>0</td>\n",
       "      <td>0</td>\n",
       "      <td>0</td>\n",
       "      <td>1</td>\n",
       "    </tr>\n",
       "    <tr>\n",
       "      <th>4</th>\n",
       "      <td>0.0</td>\n",
       "      <td>35.0</td>\n",
       "      <td>2.085672</td>\n",
       "      <td>0</td>\n",
       "      <td>0</td>\n",
       "      <td>1</td>\n",
       "      <td>1</td>\n",
       "      <td>0</td>\n",
       "      <td>0</td>\n",
       "      <td>0</td>\n",
       "      <td>...</td>\n",
       "      <td>0</td>\n",
       "      <td>1</td>\n",
       "      <td>1</td>\n",
       "      <td>0</td>\n",
       "      <td>0</td>\n",
       "      <td>0</td>\n",
       "      <td>0</td>\n",
       "      <td>0</td>\n",
       "      <td>1</td>\n",
       "      <td>0</td>\n",
       "    </tr>\n",
       "  </tbody>\n",
       "</table>\n",
       "<p>5 rows × 56 columns</p>\n",
       "</div>"
      ],
      "text/plain": [
       "   Survived   Age      Fare  Pc_1  Pc_2  Pc_3  Sex_0  Sex_1  Tkt_A  Tkt_A4  \\\n",
       "0       0.0  22.0  1.981001     0     0     1      1      0      0       0   \n",
       "1       1.0  38.0  4.266662     1     0     0      0      1      0       0   \n",
       "2       1.0  26.0  2.070022     0     0     1      0      1      0       0   \n",
       "3       1.0  35.0  3.972177     1     0     0      0      1      0       0   \n",
       "4       0.0  35.0  2.085672     0     0     1      1      0      0       0   \n",
       "\n",
       "   ...  Em_Q  Em_S  T_0  T_1  T_2  T_3  Fm_LargeF  Fm_MedF  Fm_Single  \\\n",
       "0  ...     0     1    1    0    0    0          0        0          0   \n",
       "1  ...     0     0    0    1    0    0          0        0          0   \n",
       "2  ...     0     1    0    1    0    0          0        0          1   \n",
       "3  ...     0     1    0    1    0    0          0        0          0   \n",
       "4  ...     0     1    1    0    0    0          0        0          1   \n",
       "\n",
       "   Fm_SmallF  \n",
       "0          1  \n",
       "1          1  \n",
       "2          0  \n",
       "3          1  \n",
       "4          0  \n",
       "\n",
       "[5 rows x 56 columns]"
      ]
     },
     "execution_count": 51,
     "metadata": {},
     "output_type": "execute_result"
    }
   ],
   "source": [
    "# Unncessery Columns \n",
    "final_data = data.drop(['PassengerId', 'Name','SibSp','Parch'], axis=1)\n",
    "\n",
    "# Separate Train and test data\n",
    "final_train = final_data[final_data['source'] == 'train']\n",
    "final_test = final_data[final_data['source'] == 'test']\n",
    "final_train = final_train.drop('source', axis=1)\n",
    "final_test = final_test.drop('source', axis=1)\n",
    "final_train.head()"
   ]
  },
  {
   "cell_type": "code",
   "execution_count": 55,
   "id": "0910508d",
   "metadata": {
    "papermill": {
     "duration": 0.028729,
     "end_time": "2022-12-18T04:20:41.283542",
     "exception": false,
     "start_time": "2022-12-18T04:20:41.254813",
     "status": "completed"
    },
    "tags": []
   },
   "outputs": [],
   "source": [
    "y = final_train['Survived'] \n",
    "X=final_train.drop('Survived', axis=1)\n",
    "\n",
    " \n",
    "X_train, X_test, y_train, y_test=train_test_split(X, y, test_size = 0.25, random_state = 20)"
   ]
  },
  {
   "cell_type": "code",
   "execution_count": 56,
   "id": "e2affaf7",
   "metadata": {},
   "outputs": [],
   "source": [
    "from sklearn.tree import DecisionTreeClassifier\n",
    "\n",
    "model = DecisionTreeClassifier(max_depth=15, min_samples_leaf=100)\n",
    "\n",
    "# Fit\n",
    "model.fit(X_train, y_train)\n",
    "\n",
    "# Predict\n",
    "y_predict = model.predict(X_test)"
   ]
  },
  {
   "cell_type": "code",
   "execution_count": 57,
   "id": "1618a207",
   "metadata": {},
   "outputs": [
    {
     "data": {
      "text/plain": [
       "array([0., 0., 0., 1., 0., 0., 1., 0., 0., 1., 1., 0., 0., 0., 0., 0., 0.,\n",
       "       0., 0., 1., 1., 0., 0., 0., 0., 0., 0., 1., 0., 0., 0., 0., 0., 0.,\n",
       "       0., 0., 1., 0., 0., 0., 1., 0., 1., 1., 0., 0., 0., 1., 0., 1., 0.,\n",
       "       0., 0., 0., 0., 0., 0., 1., 1., 0., 0., 0., 0., 0., 0., 0., 0., 1.,\n",
       "       0., 0., 0., 0., 1., 0., 0., 0., 1., 1., 1., 1., 0., 0., 0., 0., 0.,\n",
       "       0., 0., 0., 0., 1., 0., 0., 0., 0., 0., 0., 0., 0., 0., 0., 0., 0.,\n",
       "       0., 1., 1., 0., 0., 0., 0., 0., 0., 0., 0., 1., 0., 0., 1., 1., 1.,\n",
       "       1., 1., 0., 0., 0., 1., 0., 0., 0., 0., 0., 1., 0., 0., 0., 0., 0.,\n",
       "       0., 0., 0., 0., 0., 0., 0., 1., 0., 1., 1., 0., 0., 0., 0., 0., 0.,\n",
       "       1., 0., 0., 0., 0., 0., 1., 1., 0., 0., 1., 0., 1., 0., 0., 1., 0.,\n",
       "       1., 1., 0., 0., 0., 1., 1., 0., 1., 0., 0., 0., 0., 0., 0., 0., 0.,\n",
       "       0., 1., 0., 0., 0., 0., 0., 0., 0., 0., 0., 1., 0., 0., 0., 0., 0.,\n",
       "       1., 0., 0., 0., 0., 1., 0., 1., 0., 0., 1., 0., 0., 0., 0., 0.])"
      ]
     },
     "execution_count": 57,
     "metadata": {},
     "output_type": "execute_result"
    }
   ],
   "source": [
    "y_predict"
   ]
  },
  {
   "cell_type": "code",
   "execution_count": 61,
   "id": "6362aadc",
   "metadata": {},
   "outputs": [
    {
     "name": "stdout",
     "output_type": "stream",
     "text": [
      "Accuracy: 0.7772727272727272\n"
     ]
    }
   ],
   "source": [
    "\n",
    "print(\"Accuracy:\",metrics.accuracy_score(y_test, y_predict))"
   ]
  },
  {
   "cell_type": "code",
   "execution_count": null,
   "id": "57456e87",
   "metadata": {},
   "outputs": [],
   "source": []
  }
 ],
 "metadata": {
  "kernelspec": {
   "display_name": "Python 3 (ipykernel)",
   "language": "python",
   "name": "python3"
  },
  "language_info": {
   "codemirror_mode": {
    "name": "ipython",
    "version": 3
   },
   "file_extension": ".py",
   "mimetype": "text/x-python",
   "name": "python",
   "nbconvert_exporter": "python",
   "pygments_lexer": "ipython3",
   "version": "3.9.7"
  },
  "papermill": {
   "default_parameters": {},
   "duration": 24.702895,
   "end_time": "2022-12-18T04:20:42.134628",
   "environment_variables": {},
   "exception": null,
   "input_path": "__notebook__.ipynb",
   "output_path": "__notebook__.ipynb",
   "parameters": {},
   "start_time": "2022-12-18T04:20:17.431733",
   "version": "2.3.4"
  }
 },
 "nbformat": 4,
 "nbformat_minor": 5
}
